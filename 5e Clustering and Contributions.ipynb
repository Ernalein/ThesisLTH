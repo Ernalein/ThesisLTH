{
 "cells": [
  {
   "cell_type": "markdown",
   "metadata": {},
   "source": [
    "# Combining Clustering and Attribution methods"
   ]
  },
  {
   "cell_type": "code",
   "execution_count": null,
   "metadata": {},
   "outputs": [],
   "source": [
    "# imports\n",
    "\n",
    "from cnn_architecture import CNN2Model\n",
    "from utils import *\n",
    "from load_datasets import load_and_prep_dataset\n",
    "\n",
    "import tensorflow_datasets as tfds\n",
    "import pandas as pd\n",
    "import tensorflow as tf\n",
    "import numpy as np\n",
    "import matplotlib.pyplot as plt\n",
    "import seaborn as sns\n",
    "from tqdm import tqdm\n",
    "import random"
   ]
  },
  {
   "cell_type": "code",
   "execution_count": null,
   "metadata": {},
   "outputs": [],
   "source": [
    "# combine sign distributions, clusters and c_scores\n",
    "for d_name in [\"CIFAR\",\"CINIC\",\"SVHN\"]:\n",
    "\n",
    "    # get the clustering table\n",
    "    clustered_sign_distr = pd.read_csv(f'5b Clusters/clustered_sign_distr_{d_name}_dense1.csv', index=False)\n",
    "\n",
    "    c_scores_all = pd.DataFrame()\n",
    "\n",
    "    # get the c_scores\n",
    "    for i in range(15):\n",
    "\n",
    "        c_scores = np.load(f\"5d Contribution scores/c_scores_dense1_{dataset}_wt{i}.npy\")\n",
    "        c_scores = pd.Series(c_scores, name=\"c_scores\")\n",
    "        c_scores = pd.concat([c_scores_all,c_scores], axis=0)\n",
    "\n",
    "    c_scores_all = c_scores_all.reset_index(drop=True)\n",
    "    clusterd_sign_distr_combi = pd.concat([clustered_sign_distr,c_scores_all], axis=1)\n",
    "\n",
    "# get statistics and observations\n",
    "\n",
    "# make them the same shape\n",
    "\n",
    "# add the means to the observations"
   ]
  },
  {
   "cell_type": "code",
   "execution_count": null,
   "metadata": {},
   "outputs": [],
   "source": []
  }
 ],
 "metadata": {
  "kernelspec": {
   "display_name": "thesis",
   "language": "python",
   "name": "python3"
  },
  "language_info": {
   "name": "python",
   "version": "3.11.8"
  }
 },
 "nbformat": 4,
 "nbformat_minor": 2
}
