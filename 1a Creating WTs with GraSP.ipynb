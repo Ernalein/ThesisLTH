{
 "cells": [
  {
   "cell_type": "markdown",
   "id": "854b54b8",
   "metadata": {},
   "source": [
    "# Creating WTs\n",
    "\n",
    "This notebook contains code for:\n",
    "- importing necessary libraries\n",
    "- dowloading and preprocessing the dataset\n",
    "- using the dataset to train the full model and save the accuracies\n",
    "- performing GraSP using the model and datset\n",
    "- saving sparse model weights of WTs in Folder"
   ]
  }
 ],
 "metadata": {
  "kernelspec": {
   "display_name": "Python 3 (ipykernel)",
   "language": "python",
   "name": "python3"
  },
  "language_info": {
   "codemirror_mode": {
    "name": "ipython",
    "version": 3
   },
   "file_extension": ".py",
   "mimetype": "text/x-python",
   "name": "python",
   "nbconvert_exporter": "python",
   "pygments_lexer": "ipython3",
   "version": "3.10.13"
  }
 },
 "nbformat": 4,
 "nbformat_minor": 5
}
