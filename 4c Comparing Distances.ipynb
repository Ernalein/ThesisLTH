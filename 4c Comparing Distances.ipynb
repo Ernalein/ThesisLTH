{
 "cells": [
  {
   "cell_type": "code",
   "execution_count": null,
   "id": "8ffeab82",
   "metadata": {},
   "outputs": [],
   "source": []
  },
  {
   "cell_type": "code",
   "execution_count": null,
   "id": "bf62b6a4",
   "metadata": {},
   "outputs": [],
   "source": [
    "# all the different plot parameters:\n",
    "\n",
    "distance_measures = [kl_divergence,\n",
    "                     js_divergence, \n",
    "                     wasserstein_distance, \n",
    "                     hellinger_distance, \n",
    "                     bhattacharyya, \n",
    "                     histogram_correlation, \n",
    "                     histogram_intersection]\n",
    "\n",
    "distance_measure_names = [\"kl_divergence\",\n",
    "                          \"js_divergence\", \n",
    "                          \"wasserstein_distance\",  \n",
    "                          \"hellinger_distance\", \n",
    "                          \"bhattacharyya\", \n",
    "                          \"histogram_correlation\", \n",
    "                          \"histogram_intersection\"]\n",
    "\n",
    "distances_short = [\"kl\",\"jsd\", \"wsd\",  \"hd\", \"bd\", \"hc\", \"hi\"]\n",
    "\n",
    "variables = [\"prune_rate_in\", \"prune_rate_out\", \"sign_rate_in\", \"sign_rate_out\"]\n",
    "layers = [\"dense1\", \"dense2\"]"
   ]
  },
  {
   "cell_type": "code",
   "execution_count": null,
   "id": "bba5993b",
   "metadata": {},
   "outputs": [],
   "source": [
    "# open all the distances\n",
    "\n",
    "def get_distances( d_measure_name, layer, variable):\n",
    "                \n",
    "    myFile = open(f'4b Distances/{layer}_{variable}_{d_measure_name}_distances.txt', 'r')\n",
    "    distances = myFile.read()\n",
    "    \n",
    "    return distances"
   ]
  },
  {
   "cell_type": "code",
   "execution_count": null,
   "id": "010989d0",
   "metadata": {},
   "outputs": [],
   "source": [
    "\n",
    "# plotting distances\n",
    "def boxplotting(distances, distance_name):\n",
    "    \n",
    "    distances_boxes = []\n",
    "    c_names = []\n",
    "\n",
    "    for name in distances.keys():\n",
    "        distances_boxes.append(distances[name])\n",
    "        c_names.append(name)\n",
    "    \n",
    "    fig, ax = plt.subplots()\n",
    "    ax.set_ylabel(distance_name)\n",
    "    bplot = ax.boxplot(distances_boxes)\n",
    "    plt.xticks(range(1,len(c_names)+1), c_names, rotation=70)\n",
    "    plt.show()"
   ]
  },
  {
   "cell_type": "code",
   "execution_count": null,
   "id": "c7b06340",
   "metadata": {},
   "outputs": [],
   "source": [
    "distances = get_distances(wasserstein_distance, \"dense1\", \"prune_rate_in\")\n",
    "boxplotting(distances, \"wasserstein_distance\")"
   ]
  }
 ],
 "metadata": {
  "kernelspec": {
   "display_name": "Python 3 (ipykernel)",
   "language": "python",
   "name": "python3"
  },
  "language_info": {
   "codemirror_mode": {
    "name": "ipython",
    "version": 3
   },
   "file_extension": ".py",
   "mimetype": "text/x-python",
   "name": "python",
   "nbconvert_exporter": "python",
   "pygments_lexer": "ipython3",
   "version": "3.10.13"
  }
 },
 "nbformat": 4,
 "nbformat_minor": 5
}
