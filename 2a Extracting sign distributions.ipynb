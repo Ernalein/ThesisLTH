{
 "cells": [
  {
   "cell_type": "markdown",
   "id": "07fdad34",
   "metadata": {},
   "source": [
    "# Extracting sign distributions\n",
    "\n",
    "This notbook contains code for:\n",
    "- importing necessary libraries\n",
    "- loading stored WTs\n",
    "- creating random sparse networks\n",
    "- Extracting sign distributions from WTs\n",
    "- Extracting sign distributions from non-WTs\n",
    "- saving extracted distributions in files"
   ]
  },
  {
   "cell_type": "markdown",
   "id": "6784d557",
   "metadata": {},
   "source": [
    "### Requirements:"
   ]
  },
  {
   "cell_type": "code",
   "execution_count": 1,
   "id": "645bf7c0",
   "metadata": {},
   "outputs": [],
   "source": [
    "# importing necessary libraries and the cnn architecture I defined\n",
    "\n",
    "from cnn_architecture import CNN2Model\n",
    "from utils import *\n",
    "\n",
    "import tensorflow_datasets as tfds\n",
    "import pandas as pd\n",
    "import tensorflow as tf\n",
    "import numpy as np\n",
    "import matplotlib.pyplot as plt\n",
    "import seaborn as sns\n",
    "import random"
   ]
  },
  {
   "cell_type": "code",
   "execution_count": 2,
   "id": "f037db5b",
   "metadata": {},
   "outputs": [],
   "source": [
    "def load_and_prep_cifar(batch_size, shuffle_size):\n",
    "    # load data set\n",
    "    (train_ds, test_ds), ds_info = tfds.load(name=\"cifar10\", split=[\"train\",\"test\"], as_supervised=True, with_info=True)\n",
    "    # tfds.show_examples(train_ds, ds_info)\n",
    "    \n",
    "    def prepare_cifar10_data(ds):\n",
    "        #convert data from uint8 to float32\n",
    "        ds = ds.map(lambda img, target: (tf.cast(img, tf.float32), target))\n",
    "        #sloppy input normalization, just bringing image values from range [0, 255] to [-1, 1]\n",
    "        ds = ds.map(lambda img, target: ((img/128.)-1., target))\n",
    "        #create one-hot targets\n",
    "        ds = ds.map(lambda img, target: (img, tf.one_hot(target, depth=10)))\n",
    "        #cache this progress in memory, as there is no need to redo it; it is deterministic after all\n",
    "        ds = ds.cache()\n",
    "        #shuffle, batch, prefetch\n",
    "        ds = ds.shuffle(shuffle_size).batch(batch_size).prefetch(2)\n",
    "        #return preprocessed dataset\n",
    "        return ds\n",
    "    \n",
    "    # prepare data\n",
    "    train_dataset = train_ds.apply(prepare_cifar10_data)\n",
    "    test_dataset = test_ds.apply(prepare_cifar10_data)\n",
    "    \n",
    "    return train_dataset, test_dataset"
   ]
  },
  {
   "cell_type": "code",
   "execution_count": 3,
   "id": "cf5206ab",
   "metadata": {},
   "outputs": [],
   "source": [
    "# extract sign distribution from one layer\n",
    "\n",
    "def sign_distribution_layer(this_layer, next_layer):\n",
    "    '''\n",
    "    columns: \n",
    "    [\"prune_rate_in\", \"prune_rate_out\", \"pos_in\", \"pos_out\", \"neg_in\", \"neg_out\", \"sign_rate_in\", \"sign_rate_out\"]\n",
    "    '''\n",
    "    sign_distr = pd.DataFrame()\n",
    "    for this_neuron, next_neurons, i in zip(this_layer.T, next_layer, range(np.shape(this_layer)[0])):\n",
    "        \n",
    "        this_unpruned = this_neuron[this_neuron != 0.0]\n",
    "        next_unpruned = next_neurons[next_neurons != 0.0]\n",
    "        dic = {} \n",
    "        dic[\"pos_in\"] = len(this_unpruned[this_unpruned>0])\n",
    "        dic[\"pos_out\"] = len(next_unpruned[next_unpruned>0])\n",
    "        dic[\"neg_in\"] = len(this_unpruned[this_unpruned<0])\n",
    "        dic[\"neg_out\"] = len(next_unpruned[next_unpruned<0])\n",
    "        if len(this_neuron) > 0:\n",
    "            dic[\"prune_rate_in\"] = 1 - (len(this_unpruned)/len(this_neuron))\n",
    "        else:\n",
    "            dic[\"prune_rate_in\"] = 1\n",
    "        if len(next_unpruned) > 0:\n",
    "            dic[\"prune_rate_out\"] = 1 - (len(next_unpruned)/len(next_neurons))\n",
    "        else:    \n",
    "            dic[\"prune_rate_out\"] = 1\n",
    "        if len(this_unpruned) > 0:\n",
    "            dic[\"sign_rate_in\"] = dic[\"pos_in\"]/len(this_unpruned)\n",
    "        else:\n",
    "            dic[\"sign_rate_in\"] = 0\n",
    "        if len(next_unpruned) > 0:    \n",
    "            dic[\"sign_rate_out\"] = dic[\"pos_out\"]/len(next_unpruned)\n",
    "        else:\n",
    "            dic[\"sign_rate_out\"] = 0                                \n",
    "        df = pd.DataFrame(data = dic, index = [i])\n",
    "        sign_distr = pd.concat([sign_distr, df], axis=0)\n",
    "        \n",
    "    return sign_distr"
   ]
  },
  {
   "cell_type": "code",
   "execution_count": 4,
   "id": "44795963",
   "metadata": {},
   "outputs": [],
   "source": [
    "# extract sign distribution form two layers\n",
    "\n",
    "def sign_distribution_layers(layer1, layer2, layer3):\n",
    "    sign_distr1 = sign_distribution_layer(layer1, layer2)\n",
    "    sign_distr2 = sign_distribution_layer(layer2, layer3)\n",
    "    sign_distr1[\"layer\"] = \"dense1\"\n",
    "    sign_distr2[\"layer\"] = \"dense2\"\n",
    "    return pd.concat([sign_distr1, sign_distr2], axis=0)"
   ]
  },
  {
   "cell_type": "markdown",
   "id": "f1c9bc0d",
   "metadata": {},
   "source": [
    "## Extracting sign distributions and storing them as files:"
   ]
  },
  {
   "cell_type": "code",
   "execution_count": 21,
   "id": "fc9ef673",
   "metadata": {},
   "outputs": [
    {
     "name": "stderr",
     "output_type": "stream",
     "text": [
      "2024-05-08 16:19:34.007109: I tensorflow/core/common_runtime/executor.cc:1197] [/device:CPU:0] (DEBUG INFO) Executor start aborting (this does not indicate an error and you can ignore this message): INVALID_ARGUMENT: You must feed a value for placeholder tensor 'Placeholder/_0' with dtype string and shape [1]\n",
      "\t [[{{node Placeholder/_0}}]]\n",
      "2024-05-08 16:19:34.007589: I tensorflow/core/common_runtime/executor.cc:1197] [/device:CPU:0] (DEBUG INFO) Executor start aborting (this does not indicate an error and you can ignore this message): INVALID_ARGUMENT: You must feed a value for placeholder tensor 'Placeholder/_3' with dtype int64 and shape [1]\n",
      "\t [[{{node Placeholder/_3}}]]\n"
     ]
    },
    {
     "name": "stdout",
     "output_type": "stream",
     "text": [
      "WARNING:tensorflow:5 out of the last 5 calls to <function CNN2Model.call at 0x7f48a8650d60> triggered tf.function retracing. Tracing is expensive and the excessive number of tracings could be due to (1) creating @tf.function repeatedly in a loop, (2) passing tensors with different shapes, (3) passing Python objects instead of tensors. For (1), please define your @tf.function outside of the loop. For (2), @tf.function has reduce_retracing=True option that can avoid unnecessary retracing. For (3), please refer to https://www.tensorflow.org/guide/function#controlling_retracing and https://www.tensorflow.org/api_docs/python/tf/function for  more details.\n"
     ]
    },
    {
     "name": "stderr",
     "output_type": "stream",
     "text": [
      "WARNING:tensorflow:5 out of the last 5 calls to <function CNN2Model.call at 0x7f48a8650d60> triggered tf.function retracing. Tracing is expensive and the excessive number of tracings could be due to (1) creating @tf.function repeatedly in a loop, (2) passing tensors with different shapes, (3) passing Python objects instead of tensors. For (1), please define your @tf.function outside of the loop. For (2), @tf.function has reduce_retracing=True option that can avoid unnecessary retracing. For (3), please refer to https://www.tensorflow.org/guide/function#controlling_retracing and https://www.tensorflow.org/api_docs/python/tf/function for  more details.\n",
      "2024-05-08 16:19:37.255520: W tensorflow/core/util/tensor_slice_reader.cc:97] Could not open 1b WTs/WT_SVHN_IMP_0: DATA_LOSS: not an sstable (bad magic number): perhaps your file is in a different file format and you need to use a different restore operator?\n"
     ]
    }
   ],
   "source": [
    "# extract sign distributions\n",
    "\n",
    "def get_sign_distr(dataset, pruning_name, n):\n",
    "\n",
    "    # make a model to load the weights into\n",
    "    train_dataset, test_dataset = load_and_prep_cifar(batch_size=60, shuffle_size=512)\n",
    "    model = CNN2Model()\n",
    "    model(list(train_dataset)[0][0])\n",
    "    for i in range(n):\n",
    "        \n",
    "        # get WT weights, extract sign distribution and store in file\n",
    "        model.load_weights(f\"1b WTs/WT_{dataset}_{pruning_name}_{i}\")    \n",
    "        weights_wt = model.get_weights()\n",
    "        sign_distr_wt = sign_distribution_layers(weights_wt[4], weights_wt[6], weights_wt[8])\n",
    "        sign_distr_wt.to_csv(f'2b Sign distributions/{dataset}_{pruning_name}_{i}_sign_distr.csv', index=False)"
   ]
  },
  {
   "cell_type": "code",
   "execution_count": null,
   "id": "27f57eeb",
   "metadata": {},
   "outputs": [],
   "source": [
    "get_sign_distr(\"SVHN\",\"IMP\",10)"
   ]
  },
  {
   "cell_type": "markdown",
   "id": "84770de7",
   "metadata": {},
   "source": [
    "### Generating randomly pruned sign distributions"
   ]
  },
  {
   "cell_type": "code",
   "execution_count": 5,
   "id": "0d79025c",
   "metadata": {},
   "outputs": [],
   "source": [
    "# implement random pruning of a weight matrix according to a pruning rate\n",
    "\n",
    "def random_pruning(model,pruning_rates):\n",
    "    \n",
    "    weights = model.get_weights()\n",
    "    new_weights = []\n",
    "    \n",
    "    for layer, p_rate in zip(weights[::2], pruning_rates):\n",
    "        shape = np.shape(layer)\n",
    "        layer = layer.flatten()\n",
    "        number_to_prune = int(len(layer) * p_rate)\n",
    "        pruning_indexi = random.sample(range(len(layer)),number_to_prune)\n",
    "        layer[pruning_indexi] = 0.0\n",
    "        layer = np.reshape(layer,shape)\n",
    "        new_weights.append(layer)\n",
    "        \n",
    "    weights[::2] = new_weights\n",
    "    model.set_weights(weights)\n",
    "    weights = model.get_weights()\n",
    "    \n",
    "    return model"
   ]
  },
  {
   "cell_type": "code",
   "execution_count": 7,
   "id": "c0e003e9",
   "metadata": {},
   "outputs": [
    {
     "name": "stdout",
     "output_type": "stream",
     "text": [
      "conv rate:  0.6794931592039801\n",
      "dense rate:  0.9176456925675676\n"
     ]
    }
   ],
   "source": [
    "# get pruning rates from imp model\n",
    "train_dataset, test_dataset = load_and_prep_cifar(batch_size=60, shuffle_size=512)\n",
    "model_cifar_imp = CNN2Model()\n",
    "model_cifar_imp(list(train_dataset)[0][0])\n",
    "model_cifar_imp.load_weights(\"1b WTs/WT_CIFAR_IMP_0\")\n",
    "pruning_rates = get_pruning_rates(model_cifar_imp.get_weights()[::2])\n",
    "\n",
    "# generate random sparse networks\n",
    "for i in range(10):\n",
    "    random_model = CNN2Model()\n",
    "    random_model(list(train_dataset)[0][0])\n",
    "    random_model = random_pruning(random_model,pruning_rates)\n",
    "    weights_rsn = random_model.get_weights()\n",
    "    sign_distr_random = sign_distribution_layers(weights_rsn[4], weights_rsn[6], weights_rsn[8])\n",
    "    sign_distr_random.to_csv(f\"2b Sign distributions/RSN_{i}_sign_distr.csv\", index=False)"
   ]
  },
  {
   "cell_type": "markdown",
   "id": "0144ff6a",
   "metadata": {},
   "source": [
    "### Inspecting the data"
   ]
  },
  {
   "cell_type": "code",
   "execution_count": null,
   "id": "00b6b754",
   "metadata": {},
   "outputs": [],
   "source": [
    "# return the pruning rates of the conv and dense layers\n",
    "print(\"conv rate: \", get_pruning_rate(model_cifar_imp.get_weights()[0:4:2]))\n",
    "print(\"dense rate: \", get_pruning_rate(model_cifar_imp.get_weights()[4::2]))"
   ]
  },
  {
   "cell_type": "code",
   "execution_count": 23,
   "id": "76b9534d",
   "metadata": {},
   "outputs": [
    {
     "data": {
      "text/html": [
       "<div>\n",
       "<style scoped>\n",
       "    .dataframe tbody tr th:only-of-type {\n",
       "        vertical-align: middle;\n",
       "    }\n",
       "\n",
       "    .dataframe tbody tr th {\n",
       "        vertical-align: top;\n",
       "    }\n",
       "\n",
       "    .dataframe thead th {\n",
       "        text-align: right;\n",
       "    }\n",
       "</style>\n",
       "<table border=\"1\" class=\"dataframe\">\n",
       "  <thead>\n",
       "    <tr style=\"text-align: right;\">\n",
       "      <th></th>\n",
       "      <th>pos_in</th>\n",
       "      <th>pos_out</th>\n",
       "      <th>neg_in</th>\n",
       "      <th>neg_out</th>\n",
       "      <th>prune_rate_in</th>\n",
       "      <th>prune_rate_out</th>\n",
       "      <th>sign_rate_in</th>\n",
       "      <th>sign_rate_out</th>\n",
       "      <th>layer</th>\n",
       "    </tr>\n",
       "  </thead>\n",
       "  <tbody>\n",
       "    <tr>\n",
       "      <th>0</th>\n",
       "      <td>611</td>\n",
       "      <td>95</td>\n",
       "      <td>607</td>\n",
       "      <td>98</td>\n",
       "      <td>0.925659</td>\n",
       "      <td>0.246094</td>\n",
       "      <td>0.501642</td>\n",
       "      <td>0.492228</td>\n",
       "      <td>dense1</td>\n",
       "    </tr>\n",
       "    <tr>\n",
       "      <th>1</th>\n",
       "      <td>596</td>\n",
       "      <td>110</td>\n",
       "      <td>608</td>\n",
       "      <td>80</td>\n",
       "      <td>0.926514</td>\n",
       "      <td>0.257812</td>\n",
       "      <td>0.495017</td>\n",
       "      <td>0.578947</td>\n",
       "      <td>dense1</td>\n",
       "    </tr>\n",
       "    <tr>\n",
       "      <th>2</th>\n",
       "      <td>597</td>\n",
       "      <td>93</td>\n",
       "      <td>537</td>\n",
       "      <td>98</td>\n",
       "      <td>0.930786</td>\n",
       "      <td>0.253906</td>\n",
       "      <td>0.526455</td>\n",
       "      <td>0.486911</td>\n",
       "      <td>dense1</td>\n",
       "    </tr>\n",
       "    <tr>\n",
       "      <th>3</th>\n",
       "      <td>578</td>\n",
       "      <td>98</td>\n",
       "      <td>585</td>\n",
       "      <td>92</td>\n",
       "      <td>0.929016</td>\n",
       "      <td>0.257812</td>\n",
       "      <td>0.496991</td>\n",
       "      <td>0.515789</td>\n",
       "      <td>dense1</td>\n",
       "    </tr>\n",
       "    <tr>\n",
       "      <th>4</th>\n",
       "      <td>590</td>\n",
       "      <td>105</td>\n",
       "      <td>603</td>\n",
       "      <td>99</td>\n",
       "      <td>0.927185</td>\n",
       "      <td>0.203125</td>\n",
       "      <td>0.494552</td>\n",
       "      <td>0.514706</td>\n",
       "      <td>dense1</td>\n",
       "    </tr>\n",
       "  </tbody>\n",
       "</table>\n",
       "</div>"
      ],
      "text/plain": [
       "   pos_in  pos_out  neg_in  neg_out  prune_rate_in  prune_rate_out  \\\n",
       "0     611       95     607       98       0.925659        0.246094   \n",
       "1     596      110     608       80       0.926514        0.257812   \n",
       "2     597       93     537       98       0.930786        0.253906   \n",
       "3     578       98     585       92       0.929016        0.257812   \n",
       "4     590      105     603       99       0.927185        0.203125   \n",
       "\n",
       "   sign_rate_in  sign_rate_out   layer  \n",
       "0      0.501642       0.492228  dense1  \n",
       "1      0.495017       0.578947  dense1  \n",
       "2      0.526455       0.486911  dense1  \n",
       "3      0.496991       0.515789  dense1  \n",
       "4      0.494552       0.514706  dense1  "
      ]
     },
     "execution_count": 23,
     "metadata": {},
     "output_type": "execute_result"
    }
   ],
   "source": [
    "sign_distr_random.head() "
   ]
  },
  {
   "cell_type": "code",
   "execution_count": 24,
   "id": "afe58150",
   "metadata": {},
   "outputs": [
    {
     "data": {
      "text/html": [
       "<div>\n",
       "<style scoped>\n",
       "    .dataframe tbody tr th:only-of-type {\n",
       "        vertical-align: middle;\n",
       "    }\n",
       "\n",
       "    .dataframe tbody tr th {\n",
       "        vertical-align: top;\n",
       "    }\n",
       "\n",
       "    .dataframe thead th {\n",
       "        text-align: right;\n",
       "    }\n",
       "</style>\n",
       "<table border=\"1\" class=\"dataframe\">\n",
       "  <thead>\n",
       "    <tr style=\"text-align: right;\">\n",
       "      <th></th>\n",
       "      <th>pos_in</th>\n",
       "      <th>pos_out</th>\n",
       "      <th>neg_in</th>\n",
       "      <th>neg_out</th>\n",
       "      <th>prune_rate_in</th>\n",
       "      <th>prune_rate_out</th>\n",
       "      <th>sign_rate_in</th>\n",
       "      <th>sign_rate_out</th>\n",
       "      <th>layer</th>\n",
       "    </tr>\n",
       "  </thead>\n",
       "  <tbody>\n",
       "    <tr>\n",
       "      <th>251</th>\n",
       "      <td>90</td>\n",
       "      <td>6</td>\n",
       "      <td>96</td>\n",
       "      <td>4</td>\n",
       "      <td>0.273438</td>\n",
       "      <td>0.0</td>\n",
       "      <td>0.483871</td>\n",
       "      <td>0.600000</td>\n",
       "      <td>dense2</td>\n",
       "    </tr>\n",
       "    <tr>\n",
       "      <th>252</th>\n",
       "      <td>98</td>\n",
       "      <td>4</td>\n",
       "      <td>99</td>\n",
       "      <td>6</td>\n",
       "      <td>0.230469</td>\n",
       "      <td>0.0</td>\n",
       "      <td>0.497462</td>\n",
       "      <td>0.400000</td>\n",
       "      <td>dense2</td>\n",
       "    </tr>\n",
       "    <tr>\n",
       "      <th>253</th>\n",
       "      <td>89</td>\n",
       "      <td>6</td>\n",
       "      <td>94</td>\n",
       "      <td>3</td>\n",
       "      <td>0.285156</td>\n",
       "      <td>0.1</td>\n",
       "      <td>0.486339</td>\n",
       "      <td>0.666667</td>\n",
       "      <td>dense2</td>\n",
       "    </tr>\n",
       "    <tr>\n",
       "      <th>254</th>\n",
       "      <td>100</td>\n",
       "      <td>6</td>\n",
       "      <td>83</td>\n",
       "      <td>2</td>\n",
       "      <td>0.285156</td>\n",
       "      <td>0.2</td>\n",
       "      <td>0.546448</td>\n",
       "      <td>0.750000</td>\n",
       "      <td>dense2</td>\n",
       "    </tr>\n",
       "    <tr>\n",
       "      <th>255</th>\n",
       "      <td>104</td>\n",
       "      <td>4</td>\n",
       "      <td>88</td>\n",
       "      <td>4</td>\n",
       "      <td>0.250000</td>\n",
       "      <td>0.2</td>\n",
       "      <td>0.541667</td>\n",
       "      <td>0.500000</td>\n",
       "      <td>dense2</td>\n",
       "    </tr>\n",
       "  </tbody>\n",
       "</table>\n",
       "</div>"
      ],
      "text/plain": [
       "     pos_in  pos_out  neg_in  neg_out  prune_rate_in  prune_rate_out  \\\n",
       "251      90        6      96        4       0.273438             0.0   \n",
       "252      98        4      99        6       0.230469             0.0   \n",
       "253      89        6      94        3       0.285156             0.1   \n",
       "254     100        6      83        2       0.285156             0.2   \n",
       "255     104        4      88        4       0.250000             0.2   \n",
       "\n",
       "     sign_rate_in  sign_rate_out   layer  \n",
       "251      0.483871       0.600000  dense2  \n",
       "252      0.497462       0.400000  dense2  \n",
       "253      0.486339       0.666667  dense2  \n",
       "254      0.546448       0.750000  dense2  \n",
       "255      0.541667       0.500000  dense2  "
      ]
     },
     "execution_count": 24,
     "metadata": {},
     "output_type": "execute_result"
    }
   ],
   "source": [
    "sign_distr_random.tail()  "
   ]
  },
  {
   "cell_type": "code",
   "execution_count": null,
   "id": "577dc7a7",
   "metadata": {},
   "outputs": [],
   "source": []
  }
 ],
 "metadata": {
  "kernelspec": {
   "display_name": "Python 3 (ipykernel)",
   "language": "python",
   "name": "python3"
  },
  "language_info": {
   "codemirror_mode": {
    "name": "ipython",
    "version": 3
   },
   "file_extension": ".py",
   "mimetype": "text/x-python",
   "name": "python",
   "nbconvert_exporter": "python",
   "pygments_lexer": "ipython3",
   "version": "3.10.13"
  }
 },
 "nbformat": 4,
 "nbformat_minor": 5
}
