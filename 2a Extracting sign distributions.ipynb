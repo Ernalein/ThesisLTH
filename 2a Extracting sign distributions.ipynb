{
 "cells": [
  {
   "cell_type": "markdown",
   "id": "07fdad34",
   "metadata": {},
   "source": [
    "# Extracting sign distributions\n",
    "\n",
    "This notbook contains code for:\n",
    "- importing necessary libraries\n",
    "- loading stored WTs\n",
    "- creating random sparse networks\n",
    "- Extracting sign distributions from WTs\n",
    "- Extracting sign distributions from non-WTs\n",
    "- saving extracted distributions in files"
   ]
  },
  {
   "cell_type": "markdown",
   "id": "6784d557",
   "metadata": {},
   "source": [
    "### Requirements:"
   ]
  },
  {
   "cell_type": "code",
   "execution_count": 1,
   "id": "645bf7c0",
   "metadata": {},
   "outputs": [],
   "source": [
    "# importing necessary libraries and the cnn architecture I defined\n",
    "\n",
    "from cnn_architecture import CNN2Model\n",
    "from utils import *\n",
    "\n",
    "import tensorflow_datasets as tfds\n",
    "import pandas as pd\n",
    "import tensorflow as tf\n",
    "import numpy as np\n",
    "import matplotlib.pyplot as plt\n",
    "import seaborn as sns\n",
    "import random"
   ]
  },
  {
   "cell_type": "code",
   "execution_count": 2,
   "id": "f037db5b",
   "metadata": {},
   "outputs": [],
   "source": [
    "def load_and_prep_cifar(batch_size, shuffle_size):\n",
    "    # load data set\n",
    "    (train_ds, test_ds), ds_info = tfds.load(name=\"cifar10\", split=[\"train\",\"test\"], as_supervised=True, with_info=True)\n",
    "    # tfds.show_examples(train_ds, ds_info)\n",
    "    \n",
    "    def prepare_cifar10_data(ds):\n",
    "        #convert data from uint8 to float32\n",
    "        ds = ds.map(lambda img, target: (tf.cast(img, tf.float32), target))\n",
    "        #sloppy input normalization, just bringing image values from range [0, 255] to [-1, 1]\n",
    "        ds = ds.map(lambda img, target: ((img/128.)-1., target))\n",
    "        #create one-hot targets\n",
    "        ds = ds.map(lambda img, target: (img, tf.one_hot(target, depth=10)))\n",
    "        #cache this progress in memory, as there is no need to redo it; it is deterministic after all\n",
    "        ds = ds.cache()\n",
    "        #shuffle, batch, prefetch\n",
    "        ds = ds.shuffle(shuffle_size).batch(batch_size).prefetch(2)\n",
    "        #return preprocessed dataset\n",
    "        return ds\n",
    "    \n",
    "    # prepare data\n",
    "    train_dataset = train_ds.apply(prepare_cifar10_data)\n",
    "    test_dataset = test_ds.apply(prepare_cifar10_data)\n",
    "    \n",
    "    return train_dataset, test_dataset"
   ]
  },
  {
   "cell_type": "code",
   "execution_count": 3,
   "id": "cf5206ab",
   "metadata": {},
   "outputs": [],
   "source": [
    "# extract sign distribution from one layer\n",
    "\n",
    "def sign_distribution_layer(this_layer, next_layer):\n",
    "    '''\n",
    "    columns: \n",
    "    [\"prune_rate_in\", \"prune_rate_out\", \"pos_in\", \"pos_out\", \"neg_in\", \"neg_out\", \"sign_rate_in\", \"sign_rate_out\"]\n",
    "    '''\n",
    "    sign_distr = pd.DataFrame()\n",
    "    for this_neuron, next_neurons, i in zip(this_layer.T, next_layer, range(np.shape(this_layer)[0])):\n",
    "        \n",
    "        this_unpruned = this_neuron[this_neuron != 0.0]\n",
    "        next_unpruned = next_neurons[next_neurons != 0.0]\n",
    "        dic = {} \n",
    "        dic[\"pos_in\"] = len(this_unpruned[this_unpruned>0])\n",
    "        dic[\"pos_out\"] = len(next_unpruned[next_unpruned>0])\n",
    "        dic[\"neg_in\"] = len(this_unpruned[this_unpruned<0])\n",
    "        dic[\"neg_out\"] = len(next_unpruned[next_unpruned<0])\n",
    "        if len(this_neuron) > 0:\n",
    "            dic[\"prune_rate_in\"] = 1 - (len(this_unpruned)/len(this_neuron))\n",
    "        else:\n",
    "            dic[\"prune_rate_in\"] = 1\n",
    "        if len(next_unpruned) > 0:\n",
    "            dic[\"prune_rate_out\"] = 1 - (len(next_unpruned)/len(next_neurons))\n",
    "        else:    \n",
    "            dic[\"prune_rate_out\"] = 1\n",
    "        if len(this_unpruned) > 0:\n",
    "            dic[\"sign_rate_in\"] = dic[\"pos_in\"]/len(this_unpruned)\n",
    "        else:\n",
    "            dic[\"sign_rate_in\"] = 0\n",
    "        if len(next_unpruned) > 0:    \n",
    "            dic[\"sign_rate_out\"] = dic[\"pos_out\"]/len(next_unpruned)\n",
    "        else:\n",
    "            dic[\"sign_rate_out\"] = 0                                \n",
    "        df = pd.DataFrame(data = dic, index = [i])\n",
    "        sign_distr = pd.concat([sign_distr, df], axis=0)\n",
    "        \n",
    "    return sign_distr"
   ]
  },
  {
   "cell_type": "code",
   "execution_count": 4,
   "id": "44795963",
   "metadata": {},
   "outputs": [],
   "source": [
    "# extract sign distribution form two layers\n",
    "\n",
    "def sign_distribution_layers(layer1, layer2, layer3):\n",
    "    sign_distr1 = sign_distribution_layer(layer1, layer2)\n",
    "    sign_distr2 = sign_distribution_layer(layer2, layer3)\n",
    "    sign_distr1[\"layer\"] = \"dense1\"\n",
    "    sign_distr2[\"layer\"] = \"dense2\"\n",
    "    return pd.concat([sign_distr1, sign_distr2], axis=0)"
   ]
  },
  {
   "cell_type": "markdown",
   "id": "f1c9bc0d",
   "metadata": {},
   "source": [
    "## Extracting sign distributions and storing them as files:"
   ]
  },
  {
   "cell_type": "code",
   "execution_count": 5,
   "id": "fc9ef673",
   "metadata": {},
   "outputs": [],
   "source": [
    "# extract sign distributions\n",
    "\n",
    "def get_sign_distr(dataset, pruning_name, n):\n",
    "\n",
    "    # make a model to load the weights into\n",
    "    train_dataset, test_dataset = load_and_prep_cifar(batch_size=60, shuffle_size=512)\n",
    "    model = CNN2Model()\n",
    "    model(list(train_dataset)[0][0])\n",
    "    for i in range(n):\n",
    "        \n",
    "        # get WT weights\n",
    "        model.load_weights(f\"1b WTs/WT_{dataset}_{pruning_name}_{i}\")    \n",
    "        weights_wt = model.get_weights()\n",
    "        # get sign distribution\n",
    "        sign_distr_wt = sign_distribution_layers(weights_wt[4], weights_wt[6], weights_wt[8])\n",
    "        # store sign distribution\n",
    "        sign_distr_wt.to_csv(f'2b Sign distributions/{dataset}_{pruning_name}_{i}_sign_distr.csv', index=False)"
   ]
  },
  {
   "cell_type": "code",
   "execution_count": 6,
   "id": "27f57eeb",
   "metadata": {},
   "outputs": [],
   "source": [
    "get_sign_distr(\"SVHN\",\"IMP\",10)\n",
    "get_sign_distr(\"CINIC\",\"IMP\",10)\n",
    "get_sign_distr(\"CIFAR\",\"IMP\",10)"
   ]
  },
  {
   "cell_type": "markdown",
   "id": "84770de7",
   "metadata": {},
   "source": [
    "### Generating randomly pruned sign distributions"
   ]
  },
  {
   "cell_type": "code",
   "execution_count": 7,
   "id": "0d79025c",
   "metadata": {},
   "outputs": [],
   "source": [
    "# implement random pruning of a weight matrix according to a pruning rate\n",
    "\n",
    "def random_pruning(model,pruning_rates):\n",
    "    \n",
    "    weights = model.get_weights()\n",
    "    new_weights = []\n",
    "    \n",
    "    for layer, p_rate in zip(weights[::2], pruning_rates):\n",
    "        shape = np.shape(layer)\n",
    "        layer = layer.flatten()\n",
    "        number_to_prune = int(len(layer) * p_rate)\n",
    "        pruning_indexi = random.sample(range(len(layer)),number_to_prune)\n",
    "        layer[pruning_indexi] = 0.0\n",
    "        layer = np.reshape(layer,shape)\n",
    "        new_weights.append(layer)\n",
    "        \n",
    "    weights[::2] = new_weights\n",
    "    model.set_weights(weights)\n",
    "    weights = model.get_weights()\n",
    "    \n",
    "    return model"
   ]
  },
  {
   "cell_type": "code",
   "execution_count": 8,
   "id": "c0e003e9",
   "metadata": {},
   "outputs": [
    {
     "name": "stdout",
     "output_type": "stream",
     "text": [
      "WARNING:tensorflow:5 out of the last 5 calls to <function CNN2Model.call at 0x000001C988EB1480> triggered tf.function retracing. Tracing is expensive and the excessive number of tracings could be due to (1) creating @tf.function repeatedly in a loop, (2) passing tensors with different shapes, (3) passing Python objects instead of tensors. For (1), please define your @tf.function outside of the loop. For (2), @tf.function has reduce_retracing=True option that can avoid unnecessary retracing. For (3), please refer to https://www.tensorflow.org/guide/function#controlling_retracing and https://www.tensorflow.org/api_docs/python/tf/function for  more details.\n"
     ]
    },
    {
     "name": "stderr",
     "output_type": "stream",
     "text": [
      "WARNING:tensorflow:5 out of the last 5 calls to <function CNN2Model.call at 0x000001C988EB1480> triggered tf.function retracing. Tracing is expensive and the excessive number of tracings could be due to (1) creating @tf.function repeatedly in a loop, (2) passing tensors with different shapes, (3) passing Python objects instead of tensors. For (1), please define your @tf.function outside of the loop. For (2), @tf.function has reduce_retracing=True option that can avoid unnecessary retracing. For (3), please refer to https://www.tensorflow.org/guide/function#controlling_retracing and https://www.tensorflow.org/api_docs/python/tf/function for  more details.\n"
     ]
    },
    {
     "name": "stdout",
     "output_type": "stream",
     "text": [
      "WARNING:tensorflow:6 out of the last 6 calls to <function CNN2Model.call at 0x000001C9FDFEB640> triggered tf.function retracing. Tracing is expensive and the excessive number of tracings could be due to (1) creating @tf.function repeatedly in a loop, (2) passing tensors with different shapes, (3) passing Python objects instead of tensors. For (1), please define your @tf.function outside of the loop. For (2), @tf.function has reduce_retracing=True option that can avoid unnecessary retracing. For (3), please refer to https://www.tensorflow.org/guide/function#controlling_retracing and https://www.tensorflow.org/api_docs/python/tf/function for  more details.\n"
     ]
    },
    {
     "name": "stderr",
     "output_type": "stream",
     "text": [
      "WARNING:tensorflow:6 out of the last 6 calls to <function CNN2Model.call at 0x000001C9FDFEB640> triggered tf.function retracing. Tracing is expensive and the excessive number of tracings could be due to (1) creating @tf.function repeatedly in a loop, (2) passing tensors with different shapes, (3) passing Python objects instead of tensors. For (1), please define your @tf.function outside of the loop. For (2), @tf.function has reduce_retracing=True option that can avoid unnecessary retracing. For (3), please refer to https://www.tensorflow.org/guide/function#controlling_retracing and https://www.tensorflow.org/api_docs/python/tf/function for  more details.\n"
     ]
    }
   ],
   "source": [
    "# get pruning rates from imp model\n",
    "train_dataset, test_dataset = load_and_prep_cifar(batch_size=60, shuffle_size=512)\n",
    "model_cifar_imp = CNN2Model()\n",
    "model_cifar_imp(list(train_dataset)[0][0])\n",
    "model_cifar_imp.load_weights(\"1b WTs/WT_CIFAR_IMP_0\")\n",
    "pruning_rates = get_pruning_rates(model_cifar_imp.get_weights()[::2])\n",
    "\n",
    "# generate random sparse networks\n",
    "for i in range(10):\n",
    "    random_model = CNN2Model()\n",
    "    random_model(list(train_dataset)[0][0])\n",
    "    random_model = random_pruning(random_model,pruning_rates)\n",
    "    weights_rsn = random_model.get_weights()\n",
    "    sign_distr_random = sign_distribution_layers(weights_rsn[4], weights_rsn[6], weights_rsn[8])\n",
    "    sign_distr_random.to_csv(f\"2b Sign distributions/RSN_{i}_sign_distr.csv\", index=False)"
   ]
  },
  {
   "cell_type": "markdown",
   "id": "0144ff6a",
   "metadata": {},
   "source": [
    "### Inspecting the data"
   ]
  },
  {
   "cell_type": "code",
   "execution_count": 9,
   "id": "00b6b754",
   "metadata": {},
   "outputs": [
    {
     "name": "stdout",
     "output_type": "stream",
     "text": [
      "conv rate:  0.6794931592039801\n",
      "dense rate:  0.9176456925675676\n"
     ]
    }
   ],
   "source": [
    "# return the pruning rates of the conv and dense layers\n",
    "print(\"conv rate: \", get_pruning_rate(model_cifar_imp.get_weights()[0:4:2]))\n",
    "print(\"dense rate: \", get_pruning_rate(model_cifar_imp.get_weights()[4::2]))"
   ]
  },
  {
   "cell_type": "code",
   "execution_count": 10,
   "id": "76b9534d",
   "metadata": {},
   "outputs": [
    {
     "data": {
      "text/html": [
       "<div>\n",
       "<style scoped>\n",
       "    .dataframe tbody tr th:only-of-type {\n",
       "        vertical-align: middle;\n",
       "    }\n",
       "\n",
       "    .dataframe tbody tr th {\n",
       "        vertical-align: top;\n",
       "    }\n",
       "\n",
       "    .dataframe thead th {\n",
       "        text-align: right;\n",
       "    }\n",
       "</style>\n",
       "<table border=\"1\" class=\"dataframe\">\n",
       "  <thead>\n",
       "    <tr style=\"text-align: right;\">\n",
       "      <th></th>\n",
       "      <th>pos_in</th>\n",
       "      <th>pos_out</th>\n",
       "      <th>neg_in</th>\n",
       "      <th>neg_out</th>\n",
       "      <th>prune_rate_in</th>\n",
       "      <th>prune_rate_out</th>\n",
       "      <th>sign_rate_in</th>\n",
       "      <th>sign_rate_out</th>\n",
       "      <th>layer</th>\n",
       "    </tr>\n",
       "  </thead>\n",
       "  <tbody>\n",
       "    <tr>\n",
       "      <th>0</th>\n",
       "      <td>564</td>\n",
       "      <td>97</td>\n",
       "      <td>567</td>\n",
       "      <td>89</td>\n",
       "      <td>0.930969</td>\n",
       "      <td>0.273438</td>\n",
       "      <td>0.498674</td>\n",
       "      <td>0.521505</td>\n",
       "      <td>dense1</td>\n",
       "    </tr>\n",
       "    <tr>\n",
       "      <th>1</th>\n",
       "      <td>588</td>\n",
       "      <td>95</td>\n",
       "      <td>576</td>\n",
       "      <td>97</td>\n",
       "      <td>0.928955</td>\n",
       "      <td>0.250000</td>\n",
       "      <td>0.505155</td>\n",
       "      <td>0.494792</td>\n",
       "      <td>dense1</td>\n",
       "    </tr>\n",
       "    <tr>\n",
       "      <th>2</th>\n",
       "      <td>574</td>\n",
       "      <td>98</td>\n",
       "      <td>592</td>\n",
       "      <td>97</td>\n",
       "      <td>0.928833</td>\n",
       "      <td>0.238281</td>\n",
       "      <td>0.492281</td>\n",
       "      <td>0.502564</td>\n",
       "      <td>dense1</td>\n",
       "    </tr>\n",
       "    <tr>\n",
       "      <th>3</th>\n",
       "      <td>589</td>\n",
       "      <td>85</td>\n",
       "      <td>579</td>\n",
       "      <td>100</td>\n",
       "      <td>0.928711</td>\n",
       "      <td>0.277344</td>\n",
       "      <td>0.504281</td>\n",
       "      <td>0.459459</td>\n",
       "      <td>dense1</td>\n",
       "    </tr>\n",
       "    <tr>\n",
       "      <th>4</th>\n",
       "      <td>592</td>\n",
       "      <td>112</td>\n",
       "      <td>580</td>\n",
       "      <td>90</td>\n",
       "      <td>0.928467</td>\n",
       "      <td>0.210938</td>\n",
       "      <td>0.505119</td>\n",
       "      <td>0.554455</td>\n",
       "      <td>dense1</td>\n",
       "    </tr>\n",
       "  </tbody>\n",
       "</table>\n",
       "</div>"
      ],
      "text/plain": [
       "   pos_in  pos_out  neg_in  neg_out  prune_rate_in  prune_rate_out  \\\n",
       "0     564       97     567       89       0.930969        0.273438   \n",
       "1     588       95     576       97       0.928955        0.250000   \n",
       "2     574       98     592       97       0.928833        0.238281   \n",
       "3     589       85     579      100       0.928711        0.277344   \n",
       "4     592      112     580       90       0.928467        0.210938   \n",
       "\n",
       "   sign_rate_in  sign_rate_out   layer  \n",
       "0      0.498674       0.521505  dense1  \n",
       "1      0.505155       0.494792  dense1  \n",
       "2      0.492281       0.502564  dense1  \n",
       "3      0.504281       0.459459  dense1  \n",
       "4      0.505119       0.554455  dense1  "
      ]
     },
     "execution_count": 10,
     "metadata": {},
     "output_type": "execute_result"
    }
   ],
   "source": [
    "sign_distr_random.head() "
   ]
  },
  {
   "cell_type": "code",
   "execution_count": 11,
   "id": "afe58150",
   "metadata": {},
   "outputs": [
    {
     "data": {
      "text/html": [
       "<div>\n",
       "<style scoped>\n",
       "    .dataframe tbody tr th:only-of-type {\n",
       "        vertical-align: middle;\n",
       "    }\n",
       "\n",
       "    .dataframe tbody tr th {\n",
       "        vertical-align: top;\n",
       "    }\n",
       "\n",
       "    .dataframe thead th {\n",
       "        text-align: right;\n",
       "    }\n",
       "</style>\n",
       "<table border=\"1\" class=\"dataframe\">\n",
       "  <thead>\n",
       "    <tr style=\"text-align: right;\">\n",
       "      <th></th>\n",
       "      <th>pos_in</th>\n",
       "      <th>pos_out</th>\n",
       "      <th>neg_in</th>\n",
       "      <th>neg_out</th>\n",
       "      <th>prune_rate_in</th>\n",
       "      <th>prune_rate_out</th>\n",
       "      <th>sign_rate_in</th>\n",
       "      <th>sign_rate_out</th>\n",
       "      <th>layer</th>\n",
       "    </tr>\n",
       "  </thead>\n",
       "  <tbody>\n",
       "    <tr>\n",
       "      <th>251</th>\n",
       "      <td>97</td>\n",
       "      <td>3</td>\n",
       "      <td>98</td>\n",
       "      <td>4</td>\n",
       "      <td>0.238281</td>\n",
       "      <td>0.3</td>\n",
       "      <td>0.497436</td>\n",
       "      <td>0.428571</td>\n",
       "      <td>dense2</td>\n",
       "    </tr>\n",
       "    <tr>\n",
       "      <th>252</th>\n",
       "      <td>99</td>\n",
       "      <td>5</td>\n",
       "      <td>90</td>\n",
       "      <td>3</td>\n",
       "      <td>0.261719</td>\n",
       "      <td>0.2</td>\n",
       "      <td>0.523810</td>\n",
       "      <td>0.625000</td>\n",
       "      <td>dense2</td>\n",
       "    </tr>\n",
       "    <tr>\n",
       "      <th>253</th>\n",
       "      <td>89</td>\n",
       "      <td>4</td>\n",
       "      <td>97</td>\n",
       "      <td>5</td>\n",
       "      <td>0.273438</td>\n",
       "      <td>0.1</td>\n",
       "      <td>0.478495</td>\n",
       "      <td>0.444444</td>\n",
       "      <td>dense2</td>\n",
       "    </tr>\n",
       "    <tr>\n",
       "      <th>254</th>\n",
       "      <td>94</td>\n",
       "      <td>5</td>\n",
       "      <td>95</td>\n",
       "      <td>4</td>\n",
       "      <td>0.261719</td>\n",
       "      <td>0.1</td>\n",
       "      <td>0.497354</td>\n",
       "      <td>0.555556</td>\n",
       "      <td>dense2</td>\n",
       "    </tr>\n",
       "    <tr>\n",
       "      <th>255</th>\n",
       "      <td>92</td>\n",
       "      <td>6</td>\n",
       "      <td>94</td>\n",
       "      <td>4</td>\n",
       "      <td>0.273438</td>\n",
       "      <td>0.0</td>\n",
       "      <td>0.494624</td>\n",
       "      <td>0.600000</td>\n",
       "      <td>dense2</td>\n",
       "    </tr>\n",
       "  </tbody>\n",
       "</table>\n",
       "</div>"
      ],
      "text/plain": [
       "     pos_in  pos_out  neg_in  neg_out  prune_rate_in  prune_rate_out  \\\n",
       "251      97        3      98        4       0.238281             0.3   \n",
       "252      99        5      90        3       0.261719             0.2   \n",
       "253      89        4      97        5       0.273438             0.1   \n",
       "254      94        5      95        4       0.261719             0.1   \n",
       "255      92        6      94        4       0.273438             0.0   \n",
       "\n",
       "     sign_rate_in  sign_rate_out   layer  \n",
       "251      0.497436       0.428571  dense2  \n",
       "252      0.523810       0.625000  dense2  \n",
       "253      0.478495       0.444444  dense2  \n",
       "254      0.497354       0.555556  dense2  \n",
       "255      0.494624       0.600000  dense2  "
      ]
     },
     "execution_count": 11,
     "metadata": {},
     "output_type": "execute_result"
    }
   ],
   "source": [
    "sign_distr_random.tail()  "
   ]
  },
  {
   "cell_type": "code",
   "execution_count": null,
   "id": "577dc7a7",
   "metadata": {},
   "outputs": [],
   "source": []
  }
 ],
 "metadata": {
  "kernelspec": {
   "display_name": "Python 3 (ipykernel)",
   "language": "python",
   "name": "python3"
  },
  "language_info": {
   "codemirror_mode": {
    "name": "ipython",
    "version": 3
   },
   "file_extension": ".py",
   "mimetype": "text/x-python",
   "name": "python",
   "nbconvert_exporter": "python",
   "pygments_lexer": "ipython3",
   "version": "3.10.13"
  }
 },
 "nbformat": 4,
 "nbformat_minor": 5
}
