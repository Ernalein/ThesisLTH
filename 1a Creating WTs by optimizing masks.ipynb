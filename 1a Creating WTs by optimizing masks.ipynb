{
 "cells": [
  {
   "cell_type": "markdown",
   "id": "5d3d387b",
   "metadata": {},
   "source": [
    "# Optimizing Masks to create WTs"
   ]
  },
  {
   "cell_type": "code",
   "execution_count": 1,
   "id": "3fed2c8d",
   "metadata": {},
   "outputs": [
    {
     "name": "stderr",
     "output_type": "stream",
     "text": [
      "2024-05-27 14:35:27.992412: I tensorflow/core/platform/cpu_feature_guard.cc:210] This TensorFlow binary is optimized to use available CPU instructions in performance-critical operations.\n",
      "To enable the following instructions: SSE4.1 SSE4.2 AVX AVX2 FMA, in other operations, rebuild TensorFlow with the appropriate compiler flags.\n"
     ]
    }
   ],
   "source": [
    "# importing necessary libraries and the cnn architecture I defined\n",
    "\n",
    "from cnn_architecture import CNN2Model\n",
    "from utils import *\n",
    "from load_datasets import load_and_prep_dataset\n",
    "\n",
    "import tensorflow_datasets as tfds\n",
    "#import tensorflow_probability as tfp\n",
    "import tensorflow as tf\n",
    "import numpy as np\n",
    "import matplotlib.pyplot as plt\n",
    "from tqdm import tqdm\n",
    "from scipy.io import loadmat\n",
    "import copy\n",
    "\n",
    "# all the extra stuff for supermasks"
   ]
  },
  {
   "cell_type": "code",
   "execution_count": 2,
   "id": "08c7e8b1",
   "metadata": {},
   "outputs": [
    {
     "data": {
      "text/plain": [
       "True"
      ]
     },
     "execution_count": 2,
     "metadata": {},
     "output_type": "execute_result"
    }
   ],
   "source": [
    "tf.test.is_built_with_cuda()"
   ]
  },
  {
   "cell_type": "markdown",
   "id": "f279914f",
   "metadata": {},
   "source": [
    "all the variables i have to check their meaning:\n",
    "- use bias\n",
    "- dynamik scaling\n",
    "- sigmoid bias\n",
    "- use learning phase\n"
   ]
  },
  {
   "cell_type": "code",
   "execution_count": 3,
   "id": "57a9fd00",
   "metadata": {},
   "outputs": [],
   "source": [
    "class MaskedDense(tf.keras.layers.Dense):\n",
    "    \n",
    "    # untrainable normal Dense layer\n",
    "    # trainable mask, that is sigmoided (maybe squished) and then multiplied to Dense\n",
    "    \n",
    "    def __init__(self, units,*args, **kwargs):\n",
    "        super(MaskedDense, self).__init__(units, *args, **kwargs)\n",
    "\n",
    "        \n",
    "    def build(self, input_shape):\n",
    "\n",
    "        super(MaskedDense, self).build(input_shape)\n",
    "\n",
    "        print(\"The super build function was called.\")\n",
    "        print(\"self kernel: \", self.kernel)\n",
    "        self.kernel_mask = tf.Variable(initial_value=tf.random.uniform(shape=self.kernel.shape,minval=-1, maxval=1, seed=None), trainable=True,name=\"mask\")\n",
    "        print(\"self kernel mask: \",self.kernel_mask)\n",
    "        \n",
    "        # make bias and weights untrainable\n",
    "        self._trainable_weights.remove(self.kernel)\n",
    "        self._non_trainable_weights.append(self.kernel)\n",
    "        self._trainable_weights.remove(self.bias)\n",
    "        self._non_trainable_weights.append(self.bias)\n",
    "\n",
    "        print(\"trainable weights have been adapted.\")\n",
    "        \n",
    "        # create mask and make it trainable\n",
    "        mask_init = tf.random.uniform(shape=self.kernel.shape,minval=-1, maxval=1, seed=None)\n",
    "        self.kernel_mask = tf.Variable(initial_value=mask_init,\n",
    "                                        trainable=True,\n",
    "                                        validate_shape=True,\n",
    "                                        name='mask',\n",
    "                                        dtype=self.dtype,\n",
    "                                        shape=self.kernel.shape)\n",
    "        \n",
    "        self._trainable_weights.append(self.kernel_mask)\n",
    "\n",
    "        print(\"trainable mask have been adapted.\")\n",
    "    \n",
    "    @tf.function\n",
    "    def call(self, inputs):\n",
    "\n",
    "        tf.print(\"opened masked dense call function\")\n",
    "        tf.print(inputs.shape)\n",
    "        tf.print(self.kernel_mask)\n",
    "\n",
    "        #effective_mask = tf.cast(tfp.distributions.Bernoulli(probs=tf.nn.sigmoid(self.kernel_mask)).sample(), dtype=tf.float32)\n",
    "        effective_mask = tf.math.round(self.kernel_mask * 0.5 + 0.5)\n",
    "        effective_kernel = tf.math.multiply(self.kernel, effective_mask)\n",
    "\n",
    "        tf.print(effective_kernel.shape)\n",
    "\n",
    "        inputs = tf.convert_to_tensor(inputs)\n",
    "        outputs = tf.linalg.matmul(inputs, effective_kernel)\n",
    "        outputs = tf.nn.bias_add(outputs, self.bias)\n",
    "        output =  self.activation(outputs)\n",
    "        #output = self.activation(tf.matmul(inputs, tf.math.multiply(self.kernel, tf.math.round(tf.nn.sigmoid(self.kernel_mask)))))\n",
    "        return output\n",
    "    \n",
    "    def get_mask(self):\n",
    "        return  tf.nn.sigmoid(self.kernel_mask)\n",
    "    \n",
    "    def get_binary_mask(self):\n",
    "        return tf.math.round(tf.nn.sigmoid(self.kernel_mask))"
   ]
  },
  {
   "cell_type": "code",
   "execution_count": 4,
   "id": "517a819b",
   "metadata": {},
   "outputs": [],
   "source": [
    "class CNN2ModelMasked(tf.keras.Model):\n",
    "    \n",
    "    # basic\n",
    "    def __init__(self):\n",
    "        super(CNN2ModelMasked, self).__init__()\n",
    "        \n",
    "        # set biases to a value that is not exactly 0.0, so they don't get handled like pruned values\n",
    "        self.bias_in = tf.keras.initializers.Constant(value=0.0000000001)\n",
    "        \n",
    "        self.conv1 = tf.keras.layers.Conv2D(filters=64, kernel_size=3,activation=\"relu\", padding=\"same\",kernel_initializer='glorot_uniform', bias_initializer=self.bias_in) # [batchsize,32,32,64]\n",
    "        self.conv2 = tf.keras.layers.Conv2D(filters=64, kernel_size=3,activation=\"relu\", padding=\"same\",kernel_initializer='glorot_uniform', bias_initializer=self.bias_in) # [batchsize,32,32,64]\n",
    "        self.maxpool = tf.keras.layers.MaxPooling2D(pool_size=(2, 2),strides=(2, 2),input_shape=(32, 32, 64)) # [batchsize,16,16,64]\n",
    "        self.flatten = tf.keras.layers.Flatten() # [batch_size,16384]\n",
    "        self.dense1 = MaskedDense(256, activation=\"relu\",kernel_initializer='glorot_uniform', bias_initializer=self.bias_in) # [batch_size,256]\n",
    "        self.dense2 = MaskedDense(256, activation=\"relu\",kernel_initializer='glorot_uniform', bias_initializer=self.bias_in) # [batch_size,256]\n",
    "        self.dense3 = MaskedDense(10, activation=\"softmax\",kernel_initializer='glorot_uniform', bias_initializer=self.bias_in) # [batch_size,256]\n",
    "        \n",
    "        # Making the weights of the conv layers untrainable\n",
    "        self.conv1.trainable = False\n",
    "        self.conv2.trainable = False\n",
    "    \n",
    "    @tf.function\n",
    "    def call(self, inputs):\n",
    "        \n",
    "        # adjust the dense layers to be multiplayed with trainable mask (which gets assigned binary values for this step)\n",
    "        x = self.conv1(inputs)\n",
    "        x = self.conv2(x)\n",
    "        x = self.maxpool(x)\n",
    "        x = self.flatten(x)\n",
    "        x = self.dense1(x)\n",
    "        x = self.dense2(x)\n",
    "        x = self.dense3(x)\n",
    "        return x\n",
    "    \n",
    "    def get_masks(self):\n",
    "        return [self.dense1.get_mask(), self.dense2.get_mask(), self.dense3.get_mask()]\n",
    "        \n",
    "    def get_binary_masks(self):\n",
    "        return [self.dense1.get_binary_mask(), self.dense2.get_binary_mask(), self.dense3.get_binary_mask()]"
   ]
  },
  {
   "cell_type": "code",
   "execution_count": 5,
   "id": "42718cc9",
   "metadata": {},
   "outputs": [],
   "source": [
    "# modified train loop to also work with sparse networks (such that pruned weights remain frozen at 0.0)\n",
    "\n",
    "def train_mask(train, test, model, num_epochs=5):\n",
    "    \n",
    "    # hyperparameters\n",
    "    optimizer = tf.keras.optimizers.Adam(learning_rate=0.0002)\n",
    "    loss_function= tf.keras.losses.CategoricalCrossentropy()\n",
    "    \n",
    "    # initializing training statistics\n",
    "    train_accuracy = tf.keras.metrics.Accuracy(name='test_accuracy')\n",
    "    test_accuracy = tf.keras.metrics.Accuracy(name='train_accuracy')\n",
    "    train_losses = tf.keras.metrics.CategoricalCrossentropy(name='train_losses')\n",
    "    test_losses = tf.keras.metrics.CategoricalCrossentropy(name='test_losses')\n",
    "    train_acc = []\n",
    "    test_acc = []\n",
    "    train_l =[]\n",
    "    test_l = []\n",
    "\n",
    "    for epoch in tqdm(range(num_epochs), leave=False, desc=\"training epochs\"):\n",
    "        \n",
    "        #train step\n",
    "        for x, t in train:\n",
    "            with tf.GradientTape() as tape:\n",
    "                pred = model(x)\n",
    "                loss = loss_function(t, pred)\n",
    "                train_losses.update_state(t, pred)\n",
    "                train_accuracy.update_state(tf.argmax(t,1), tf.argmax(pred,1))\n",
    "            gradients = tape.gradient(loss, model.trainable_variables)\n",
    "            optimizer.apply_gradients(zip(gradients, model.trainable_variables))\n",
    "            \n",
    "        # test step\n",
    "        for x, t in test:\n",
    "            pred = model(x)\n",
    "            test_accuracy.update_state(tf.argmax(t,1), tf.argmax(pred,1))\n",
    "            test_losses.update_state(t, pred)\n",
    "        \n",
    "        # updataing training statistics\n",
    "        train_acc.append(train_accuracy.result().numpy())\n",
    "        test_acc.append(test_accuracy.result().numpy())\n",
    "        train_l.append(train_losses.result().numpy())\n",
    "        test_l.append(test_losses.result().numpy())\n",
    "        train_accuracy.reset_state()\n",
    "        test_accuracy.reset_state()\n",
    "        train_losses.reset_state()\n",
    "        test_losses.reset_state()\n",
    "        \n",
    "    # collecting losses in a dictionary\n",
    "    losses = { \"test loss\":test_l , \"training loss\":train_l , \"test accuracy\":test_acc , \"training accuracy\":train_acc}\n",
    "    \n",
    "    return  losses"
   ]
  },
  {
   "cell_type": "code",
   "execution_count": 6,
   "id": "0cc4a3e5",
   "metadata": {},
   "outputs": [
    {
     "name": "stderr",
     "output_type": "stream",
     "text": [
      "2024-05-27 14:35:32.503135: I external/local_xla/xla/stream_executor/cuda/cuda_executor.cc:998] successful NUMA node read from SysFS had negative value (-1), but there must be at least one NUMA node, so returning NUMA node zero. See more at https://github.com/torvalds/linux/blob/v6.0/Documentation/ABI/testing/sysfs-bus-pci#L344-L355\n",
      "2024-05-27 14:35:32.558406: I external/local_xla/xla/stream_executor/cuda/cuda_executor.cc:998] successful NUMA node read from SysFS had negative value (-1), but there must be at least one NUMA node, so returning NUMA node zero. See more at https://github.com/torvalds/linux/blob/v6.0/Documentation/ABI/testing/sysfs-bus-pci#L344-L355\n",
      "2024-05-27 14:35:32.558690: I external/local_xla/xla/stream_executor/cuda/cuda_executor.cc:998] successful NUMA node read from SysFS had negative value (-1), but there must be at least one NUMA node, so returning NUMA node zero. See more at https://github.com/torvalds/linux/blob/v6.0/Documentation/ABI/testing/sysfs-bus-pci#L344-L355\n",
      "2024-05-27 14:35:32.559702: I external/local_xla/xla/stream_executor/cuda/cuda_executor.cc:998] successful NUMA node read from SysFS had negative value (-1), but there must be at least one NUMA node, so returning NUMA node zero. See more at https://github.com/torvalds/linux/blob/v6.0/Documentation/ABI/testing/sysfs-bus-pci#L344-L355\n",
      "2024-05-27 14:35:32.559943: I external/local_xla/xla/stream_executor/cuda/cuda_executor.cc:998] successful NUMA node read from SysFS had negative value (-1), but there must be at least one NUMA node, so returning NUMA node zero. See more at https://github.com/torvalds/linux/blob/v6.0/Documentation/ABI/testing/sysfs-bus-pci#L344-L355\n",
      "2024-05-27 14:35:32.560098: I external/local_xla/xla/stream_executor/cuda/cuda_executor.cc:998] successful NUMA node read from SysFS had negative value (-1), but there must be at least one NUMA node, so returning NUMA node zero. See more at https://github.com/torvalds/linux/blob/v6.0/Documentation/ABI/testing/sysfs-bus-pci#L344-L355\n",
      "2024-05-27 14:35:32.613548: I external/local_xla/xla/stream_executor/cuda/cuda_executor.cc:998] successful NUMA node read from SysFS had negative value (-1), but there must be at least one NUMA node, so returning NUMA node zero. See more at https://github.com/torvalds/linux/blob/v6.0/Documentation/ABI/testing/sysfs-bus-pci#L344-L355\n",
      "2024-05-27 14:35:32.613760: I external/local_xla/xla/stream_executor/cuda/cuda_executor.cc:998] successful NUMA node read from SysFS had negative value (-1), but there must be at least one NUMA node, so returning NUMA node zero. See more at https://github.com/torvalds/linux/blob/v6.0/Documentation/ABI/testing/sysfs-bus-pci#L344-L355\n",
      "2024-05-27 14:35:32.613912: I external/local_xla/xla/stream_executor/cuda/cuda_executor.cc:998] successful NUMA node read from SysFS had negative value (-1), but there must be at least one NUMA node, so returning NUMA node zero. See more at https://github.com/torvalds/linux/blob/v6.0/Documentation/ABI/testing/sysfs-bus-pci#L344-L355\n",
      "2024-05-27 14:35:32.614008: I tensorflow/core/common_runtime/gpu/gpu_device.cc:1928] Created device /job:localhost/replica:0/task:0/device:GPU:0 with 2903 MB memory:  -> device: 0, name: NVIDIA GeForce GTX 1050 Ti, pci bus id: 0000:01:00.0, compute capability: 6.1\n",
      "/net/projects/scratch/summer/valid_until_31_January_2025/epetersen/miniconda3/envs/thesis/lib/python3.11/site-packages/keras/src/layers/pooling/base_pooling.py:23: UserWarning: Do not pass an `input_shape`/`input_dim` argument to a layer. When using Sequential models, prefer using an `Input(shape)` object as the first layer in the model instead.\n",
      "  super().__init__(name=name, **kwargs)\n",
      "2024-05-27 14:35:34.896186: W tensorflow/core/framework/local_rendezvous.cc:404] Local rendezvous is aborting with status: OUT_OF_RANGE: End of sequence\n"
     ]
    },
    {
     "name": "stdout",
     "output_type": "stream",
     "text": [
      "The super build function was called.\n",
      "self kernel:  <KerasVariable shape=(16384, 256), dtype=float32, path=cnn2_model_masked/masked_dense/kernel>\n",
      "self kernel mask:  <tf.Variable 'masked_dense/mask:0' shape=(16384, 256) dtype=float32>\n"
     ]
    },
    {
     "ename": "AttributeError",
     "evalue": "'MaskedDense' object has no attribute 'kernel_mask'",
     "output_type": "error",
     "traceback": [
      "\u001b[0;31m---------------------------------------------------------------------------\u001b[0m",
      "\u001b[0;31mAttributeError\u001b[0m                            Traceback (most recent call last)",
      "Cell \u001b[0;32mIn[6], line 6\u001b[0m\n\u001b[1;32m      4\u001b[0m model(\u001b[38;5;28mlist\u001b[39m(train_dataset)[\u001b[38;5;241m0\u001b[39m][\u001b[38;5;241m0\u001b[39m])\n\u001b[1;32m      5\u001b[0m initial_weights \u001b[38;5;241m=\u001b[39m model\u001b[38;5;241m.\u001b[39mget_weights()\n\u001b[0;32m----> 6\u001b[0m initial_mask \u001b[38;5;241m=\u001b[39m \u001b[43mmodel\u001b[49m\u001b[38;5;241;43m.\u001b[39;49m\u001b[43mget_masks\u001b[49m\u001b[43m(\u001b[49m\u001b[43m)\u001b[49m\n\u001b[1;32m      7\u001b[0m initial_b_mask \u001b[38;5;241m=\u001b[39m model\u001b[38;5;241m.\u001b[39mget_binary_masks()\n\u001b[1;32m      8\u001b[0m \u001b[38;5;28mprint\u001b[39m(initial_mask)\n",
      "Cell \u001b[0;32mIn[4], line 36\u001b[0m, in \u001b[0;36mCNN2ModelMasked.get_masks\u001b[0;34m(self)\u001b[0m\n\u001b[1;32m     35\u001b[0m \u001b[38;5;28;01mdef\u001b[39;00m \u001b[38;5;21mget_masks\u001b[39m(\u001b[38;5;28mself\u001b[39m):\n\u001b[0;32m---> 36\u001b[0m     \u001b[38;5;28;01mreturn\u001b[39;00m [\u001b[38;5;28mself\u001b[39m\u001b[38;5;241m.\u001b[39mdense1\u001b[38;5;241m.\u001b[39mget_mask(), \u001b[38;5;28;43mself\u001b[39;49m\u001b[38;5;241;43m.\u001b[39;49m\u001b[43mdense2\u001b[49m\u001b[38;5;241;43m.\u001b[39;49m\u001b[43mget_mask\u001b[49m\u001b[43m(\u001b[49m\u001b[43m)\u001b[49m, \u001b[38;5;28mself\u001b[39m\u001b[38;5;241m.\u001b[39mdense3\u001b[38;5;241m.\u001b[39mget_mask()]\n",
      "Cell \u001b[0;32mIn[3], line 61\u001b[0m, in \u001b[0;36mMaskedDense.get_mask\u001b[0;34m(self)\u001b[0m\n\u001b[1;32m     60\u001b[0m \u001b[38;5;28;01mdef\u001b[39;00m \u001b[38;5;21mget_mask\u001b[39m(\u001b[38;5;28mself\u001b[39m):\n\u001b[0;32m---> 61\u001b[0m     \u001b[38;5;28;01mreturn\u001b[39;00m  tf\u001b[38;5;241m.\u001b[39mnn\u001b[38;5;241m.\u001b[39msigmoid(\u001b[38;5;28;43mself\u001b[39;49m\u001b[38;5;241;43m.\u001b[39;49m\u001b[43mkernel_mask\u001b[49m)\n",
      "\u001b[0;31mAttributeError\u001b[0m: 'MaskedDense' object has no attribute 'kernel_mask'"
     ]
    }
   ],
   "source": [
    "train_dataset, test_dataset = load_and_prep_dataset(\"CIFAR\", batch_size=60, shuffle_size=512)\n",
    "\n",
    "model = CNN2ModelMasked()\n",
    "model(list(train_dataset)[0][0])\n",
    "initial_weights = model.get_weights()\n",
    "initial_mask = model.get_masks()\n",
    "initial_b_mask = model.get_binary_masks()\n",
    "print(initial_mask)\n",
    "print(initial_b_mask)\n",
    "print(\"pruning_rates: \", get_pruning_rates(initial_b_mask))\n",
    "print(model.trainable_variables)\n",
    "model.summary()\n",
    "\n",
    "losses = train_mask(train_dataset, test_dataset, model)\n",
    "plot_losses(\"CIFAR\", \"TestSuperMaskOptimization\", losses,\"CNN Loss and Accuracy for supermask model\")"
   ]
  },
  {
   "cell_type": "markdown",
   "id": "df2cf268",
   "metadata": {},
   "source": [
    "debugging to do:\n",
    "- check paper for optimizer\n",
    "- make the call function simpler\n",
    "- research other examples of unusual trainable parameters in models"
   ]
  },
  {
   "cell_type": "code",
   "execution_count": null,
   "id": "c27f0c07",
   "metadata": {},
   "outputs": [],
   "source": []
  }
 ],
 "metadata": {
  "kernelspec": {
   "display_name": "Python 3 (ipykernel)",
   "language": "python",
   "name": "python3"
  },
  "language_info": {
   "codemirror_mode": {
    "name": "ipython",
    "version": 3
   },
   "file_extension": ".py",
   "mimetype": "text/x-python",
   "name": "python",
   "nbconvert_exporter": "python",
   "pygments_lexer": "ipython3",
   "version": "3.11.8"
  }
 },
 "nbformat": 4,
 "nbformat_minor": 5
}
