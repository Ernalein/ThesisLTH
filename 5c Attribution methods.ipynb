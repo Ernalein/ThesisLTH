{
 "cells": [
  {
   "cell_type": "markdown",
   "id": "e3c50ec5",
   "metadata": {},
   "source": [
    "# Attribution methods\n",
    "\n",
    "In this notebook I perform attribution methods with the Wts and check for correlation with the sign distributions."
   ]
  },
  {
   "cell_type": "code",
   "execution_count": null,
   "id": "2fa14221",
   "metadata": {
    "vscode": {
     "languageId": "plaintext"
    }
   },
   "outputs": [],
   "source": [
    "# imports"
   ]
  },
  {
   "cell_type": "code",
   "execution_count": null,
   "id": "edacb855",
   "metadata": {
    "vscode": {
     "languageId": "plaintext"
    }
   },
   "outputs": [],
   "source": [
    "# load wts"
   ]
  },
  {
   "cell_type": "code",
   "execution_count": null,
   "id": "832c1056",
   "metadata": {
    "vscode": {
     "languageId": "plaintext"
    }
   },
   "outputs": [],
   "source": [
    "# get contribution values for neurons"
   ]
  },
  {
   "cell_type": "code",
   "execution_count": null,
   "id": "6d3b6a0f",
   "metadata": {
    "vscode": {
     "languageId": "plaintext"
    }
   },
   "outputs": [],
   "source": [
    "# plot distirbution of contribution values"
   ]
  },
  {
   "cell_type": "code",
   "execution_count": null,
   "id": "ee2f0840",
   "metadata": {
    "vscode": {
     "languageId": "plaintext"
    }
   },
   "outputs": [],
   "source": [
    "# plot contribution values in scatterplot matrix as 5th dimension"
   ]
  },
  {
   "cell_type": "code",
   "execution_count": null,
   "id": "3f5e4377",
   "metadata": {
    "vscode": {
     "languageId": "plaintext"
    }
   },
   "outputs": [],
   "source": [
    "# collect statistics for contribution value of each cluster"
   ]
  },
  {
   "cell_type": "code",
   "execution_count": null,
   "id": "27de560c",
   "metadata": {
    "vscode": {
     "languageId": "plaintext"
    }
   },
   "outputs": [],
   "source": []
  }
 ],
 "metadata": {
  "kernelspec": {
   "display_name": "Python 3 (ipykernel)",
   "language": "python",
   "name": "python3"
  },
  "language_info": {
   "codemirror_mode": {
    "name": "ipython",
    "version": 3
   },
   "file_extension": ".py",
   "mimetype": "text/x-python",
   "name": "python",
   "nbconvert_exporter": "python",
   "pygments_lexer": "ipython3",
   "version": "3.10.13"
  }
 },
 "nbformat": 4,
 "nbformat_minor": 5
}
