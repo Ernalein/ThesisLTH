{
 "cells": [
  {
   "cell_type": "markdown",
   "id": "e3c50ec5",
   "metadata": {},
   "source": [
    "# Attribution methods\n",
    "\n",
    "In this notebook I perform attribution methods with the Wts and check for correlation with the sign distributions."
   ]
  },
  {
   "cell_type": "code",
   "execution_count": 1,
   "id": "2fa14221",
   "metadata": {},
   "outputs": [
    {
     "name": "stderr",
     "output_type": "stream",
     "text": [
      "2024-06-07 16:01:30.274786: I tensorflow/core/platform/cpu_feature_guard.cc:193] This TensorFlow binary is optimized with oneAPI Deep Neural Network Library (oneDNN) to use the following CPU instructions in performance-critical operations:  SSE4.1 SSE4.2 AVX AVX2 FMA\n",
      "To enable them in other operations, rebuild TensorFlow with the appropriate compiler flags.\n",
      "/net/projects/scratch/summer/valid_until_31_January_2025/epetersen/miniconda3/envs/thesis_no_gpu/lib/python3.10/site-packages/tqdm/auto.py:21: TqdmWarning: IProgress not found. Please update jupyter and ipywidgets. See https://ipywidgets.readthedocs.io/en/stable/user_install.html\n",
      "  from .autonotebook import tqdm as notebook_tqdm\n"
     ]
    }
   ],
   "source": [
    "# imports\n",
    "\n",
    "from cnn_architecture import CNN2Model\n",
    "from utils import *\n",
    "from load_datasets import load_and_prep_dataset\n",
    "\n",
    "import tensorflow_datasets as tfds\n",
    "import pandas as pd\n",
    "import tensorflow as tf\n",
    "import numpy as np\n",
    "import matplotlib.pyplot as plt\n",
    "import seaborn as sns\n",
    "from tqdm import tqdm\n",
    "import random"
   ]
  },
  {
   "cell_type": "code",
   "execution_count": 2,
   "id": "edacb855",
   "metadata": {},
   "outputs": [
    {
     "name": "stderr",
     "output_type": "stream",
     "text": [
      "2024-06-07 16:03:41.671528: W tensorflow/core/util/tensor_slice_reader.cc:96] Could not open 1b WTs/old_format/WT_CIFAR_IMP_0: DATA_LOSS: not an sstable (bad magic number): perhaps your file is in a different file format and you need to use a different restore operator?\n"
     ]
    }
   ],
   "source": [
    "# load wts\n",
    "\n",
    "# make a model to load the weights into\n",
    "train_dataset, test_dataset = load_and_prep_dataset(\"CIFAR\", batch_size=60, shuffle_size=512)\n",
    "model = CNN2Model()\n",
    "model(list(train_dataset)[0][0])\n",
    "    \n",
    "# get WT weights\n",
    "model.load_weights(f\"1b WTs/old_format/WT_CIFAR_IMP_0\")    \n",
    "weights_wt = model.get_weights()"
   ]
  },
  {
   "cell_type": "code",
   "execution_count": null,
   "id": "832c1056",
   "metadata": {},
   "outputs": [],
   "source": [
    "# get contribution values for neurons\n",
    "def contribution_scores(test, model):\n",
    "\n",
    "    # hyperparameters\n",
    "    loss_function= tf.keras.losses.CategoricalCrossentropy()\n",
    "    \n",
    "    # initializeing contribution scores\n",
    "    c_scores = []\n",
    "    for wm in model.trainable_variables:\n",
    "        c_scores.append(np.zeros(wm.shape))\n",
    "\n",
    "    # iterate through testing set and get gradients for each weight\n",
    "    for x, t in test:\n",
    "        with tf.GradientTape() as tape:\n",
    "            pred = model(x)\n",
    "            loss = loss_function(t, pred)\n",
    "        gradients = tape.gradient(loss, model.trainable_variables)\n",
    "        \n",
    "    # calculate contribution scores\n",
    "    for gradient_matrix, wm in zip(gradients, model.trainable_variables):\n",
    "        do_something()\n",
    "\n",
    "    \n",
    "    return  c_scores"
   ]
  },
  {
   "cell_type": "code",
   "execution_count": null,
   "id": "6d3b6a0f",
   "metadata": {},
   "outputs": [],
   "source": [
    "# plot distirbution of contribution values"
   ]
  },
  {
   "cell_type": "code",
   "execution_count": null,
   "id": "ee2f0840",
   "metadata": {},
   "outputs": [],
   "source": [
    "# plot contribution values in scatterplot matrix as 5th dimension"
   ]
  },
  {
   "cell_type": "code",
   "execution_count": null,
   "id": "3f5e4377",
   "metadata": {},
   "outputs": [],
   "source": [
    "# collect statistics for contribution value of each cluster"
   ]
  },
  {
   "cell_type": "code",
   "execution_count": null,
   "id": "27de560c",
   "metadata": {},
   "outputs": [],
   "source": []
  }
 ],
 "metadata": {
  "kernelspec": {
   "display_name": "Python 3 (ipykernel)",
   "language": "python",
   "name": "python3"
  },
  "language_info": {
   "codemirror_mode": {
    "name": "ipython",
    "version": 3
   },
   "file_extension": ".py",
   "mimetype": "text/x-python",
   "name": "python",
   "nbconvert_exporter": "python",
   "pygments_lexer": "ipython3",
   "version": "3.10.8"
  }
 },
 "nbformat": 4,
 "nbformat_minor": 5
}
