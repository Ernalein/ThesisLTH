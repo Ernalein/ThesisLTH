{
 "cells": [
  {
   "cell_type": "markdown",
   "id": "e3c50ec5",
   "metadata": {},
   "source": [
    "# Attribution methods\n",
    "\n",
    "In this notebook I perform attribution methods with the Wts and check for correlation with the sign distributions."
   ]
  },
  {
   "cell_type": "code",
   "execution_count": 1,
   "id": "2fa14221",
   "metadata": {},
   "outputs": [
    {
     "name": "stderr",
     "output_type": "stream",
     "text": [
      "2024-06-08 15:25:23.018059: I tensorflow/core/platform/cpu_feature_guard.cc:210] This TensorFlow binary is optimized to use available CPU instructions in performance-critical operations.\n",
      "To enable the following instructions: SSE4.1 SSE4.2 AVX AVX2 FMA, in other operations, rebuild TensorFlow with the appropriate compiler flags.\n",
      "/net/projects/scratch/summer/valid_until_31_January_2025/epetersen/miniconda3/envs/thesis_gpu/lib/python3.12/site-packages/tqdm/auto.py:21: TqdmWarning: IProgress not found. Please update jupyter and ipywidgets. See https://ipywidgets.readthedocs.io/en/stable/user_install.html\n",
      "  from .autonotebook import tqdm as notebook_tqdm\n"
     ]
    }
   ],
   "source": [
    "# imports\n",
    "\n",
    "from cnn_architecture import CNN2Model\n",
    "from utils import *\n",
    "from load_datasets import load_and_prep_dataset\n",
    "\n",
    "import tensorflow_datasets as tfds\n",
    "import pandas as pd\n",
    "import tensorflow as tf\n",
    "import numpy as np\n",
    "import matplotlib.pyplot as plt\n",
    "import seaborn as sns\n",
    "from tqdm import tqdm\n",
    "import random"
   ]
  },
  {
   "cell_type": "code",
   "execution_count": 2,
   "id": "00721f2d",
   "metadata": {},
   "outputs": [],
   "source": [
    "class CNN2Model_adapted(tf.keras.Model):\n",
    "    \n",
    "    # basic\n",
    "    def __init__(self):\n",
    "        super(CNN2Model_adapted, self).__init__()\n",
    "        \n",
    "        # set biases to a value that is not exactly 0.0, so they don't get handled like pruned values\n",
    "        self.bias_in = tf.keras.initializers.Constant(value=0.0000000001)\n",
    "        \n",
    "        self.conv1 = tf.keras.layers.Conv2D(filters=64, kernel_size=3,activation=\"relu\", padding=\"same\",kernel_initializer='glorot_uniform', bias_initializer=self.bias_in) # [batchsize,32,32,64]\n",
    "        self.conv2 = tf.keras.layers.Conv2D(filters=64, kernel_size=3,activation=\"relu\", padding=\"same\",kernel_initializer='glorot_uniform', bias_initializer=self.bias_in) # [batchsize,32,32,64]\n",
    "        self.maxpool = tf.keras.layers.MaxPooling2D(pool_size=(2, 2),strides=(2, 2),input_shape=(32, 32, 64)) # [batchsize,16,16,64]\n",
    "        self.flatten = tf.keras.layers.Flatten() # [batch_size,16384]\n",
    "        self.dense1 = tf.keras.layers.Dense(256, activation=\"relu\",kernel_initializer='glorot_uniform', bias_initializer=self.bias_in) # [batch_size,256]\n",
    "        self.dense2 = tf.keras.layers.Dense(256, activation=\"relu\",kernel_initializer='glorot_uniform', bias_initializer=self.bias_in) # [batch_size,256]\n",
    "        self.dense3 = tf.keras.layers.Dense(10, activation=\"softmax\",kernel_initializer='glorot_uniform', bias_initializer=self.bias_in) # [batch_size,256]\n",
    "\n",
    "    #@tf.function\n",
    "    def call(self, inputs):\n",
    "        x = self.conv1(inputs)\n",
    "        x = self.conv2(x)\n",
    "        x = self.maxpool(x)\n",
    "        dense1_input = self.flatten(x)\n",
    "        dense1_out = self.dense1(dense1_input)\n",
    "        dense2_out = self.dense2(dense1_out)\n",
    "        dense3_out = self.dense3(dense2_out)\n",
    "        return dense3_out, dense1_out[0], dense2_out[0]"
   ]
  },
  {
   "cell_type": "code",
   "execution_count": 4,
   "id": "832c1056",
   "metadata": {},
   "outputs": [
    {
     "name": "stderr",
     "output_type": "stream",
     "text": [
      "100%|██████████| 10000/10000 [57:29<00:00,  2.92it/s]2024-06-08 16:23:07.925591: W tensorflow/core/framework/local_rendezvous.cc:404] Local rendezvous is aborting with status: OUT_OF_RANGE: End of sequence\n",
      "100%|██████████| 10000/10000 [57:29<00:00,  2.90it/s]\n"
     ]
    },
    {
     "data": {
      "image/png": "[encoded data removed]",
      "text/plain": [
       "<Figure size 640x480 with 1 Axes>"
      ]
     },
     "metadata": {},
     "output_type": "display_data"
    },
    {
     "data": {
      "image/png": "[encoded data removed]",
      "text/plain": [
       "<Figure size 640x480 with 1 Axes>"
      ]
     },
     "metadata": {},
     "output_type": "display_data"
    }
   ],
   "source": [
    "# get contribution values for neurons\n",
    "def contribution_scores(test, model):\n",
    "\n",
    "    # hyperparameters\n",
    "    loss_function= tf.keras.losses.CategoricalCrossentropy()\n",
    "    \n",
    "    # initializeing contribution scores\n",
    "    c_score_1 = np.zeros(256)\n",
    "    c_score_2 = np.zeros(256)\n",
    "\n",
    "    # iterate through testing set and get gradients for each weight\n",
    "    first_round = True\n",
    "    for x, t in tqdm(test):\n",
    "\n",
    "        # get gradients \n",
    "        with tf.GradientTape() as tape:\n",
    "            pred, dense1_out, dense2_out = model(x)\n",
    "            loss = loss_function(t, pred)\n",
    "        gradients = tape.gradient(loss, model.trainable_variables)\n",
    "\n",
    "        # set gradients to zero for all pruned weights\n",
    "        new_gradients = []\n",
    "        for gradient_matrix, variables in zip(gradients, model.trainable_variables):\n",
    "            gradient_matrix = tf.where(variables == 0.0, 0.0, gradient_matrix)\n",
    "            new_gradients.append(gradient_matrix)\n",
    "        gradients_dense2 = new_gradients[6]\n",
    "        gradients_dense3 = new_gradients[8]\n",
    "\n",
    "        # compute c score for each neuron\n",
    "        for i in range(256):\n",
    "            c_score_1[i] = c_score_1[i] + np.sum(np.abs(gradients_dense2[i]*dense1_out[i]))\n",
    "            c_score_2[i] = c_score_2[i] + np.sum(np.abs(gradients_dense3[i]*dense2_out[i]))\n",
    "\n",
    "    # normalize c_scores to values between 0 and 1\n",
    "    c_score_1 = c_score_1 / np.sum(c_score_1)\n",
    "    c_score_2 = c_score_2 / np.sum(c_score_2)\n",
    "    \n",
    "    return  c_score_1,c_score_2"
   ]
  },
  {
   "cell_type": "code",
   "execution_count": 3,
   "id": "edacb855",
   "metadata": {},
   "outputs": [
    {
     "name": "stderr",
     "output_type": "stream",
     "text": [
      "2024-06-08 15:25:27.389196: I external/local_xla/xla/stream_executor/cuda/cuda_executor.cc:998] successful NUMA node read from SysFS had negative value (-1), but there must be at least one NUMA node, so returning NUMA node zero. See more at https://github.com/torvalds/linux/blob/v6.0/Documentation/ABI/testing/sysfs-bus-pci#L344-L355\n",
      "2024-06-08 15:25:27.439590: I external/local_xla/xla/stream_executor/cuda/cuda_executor.cc:998] successful NUMA node read from SysFS had negative value (-1), but there must be at least one NUMA node, so returning NUMA node zero. See more at https://github.com/torvalds/linux/blob/v6.0/Documentation/ABI/testing/sysfs-bus-pci#L344-L355\n",
      "2024-06-08 15:25:27.439783: I external/local_xla/xla/stream_executor/cuda/cuda_executor.cc:998] successful NUMA node read from SysFS had negative value (-1), but there must be at least one NUMA node, so returning NUMA node zero. See more at https://github.com/torvalds/linux/blob/v6.0/Documentation/ABI/testing/sysfs-bus-pci#L344-L355\n",
      "2024-06-08 15:25:27.440507: I external/local_xla/xla/stream_executor/cuda/cuda_executor.cc:998] successful NUMA node read from SysFS had negative value (-1), but there must be at least one NUMA node, so returning NUMA node zero. See more at https://github.com/torvalds/linux/blob/v6.0/Documentation/ABI/testing/sysfs-bus-pci#L344-L355\n",
      "2024-06-08 15:25:27.440677: I external/local_xla/xla/stream_executor/cuda/cuda_executor.cc:998] successful NUMA node read from SysFS had negative value (-1), but there must be at least one NUMA node, so returning NUMA node zero. See more at https://github.com/torvalds/linux/blob/v6.0/Documentation/ABI/testing/sysfs-bus-pci#L344-L355\n",
      "2024-06-08 15:25:27.440827: I external/local_xla/xla/stream_executor/cuda/cuda_executor.cc:998] successful NUMA node read from SysFS had negative value (-1), but there must be at least one NUMA node, so returning NUMA node zero. See more at https://github.com/torvalds/linux/blob/v6.0/Documentation/ABI/testing/sysfs-bus-pci#L344-L355\n",
      "2024-06-08 15:25:27.502934: I external/local_xla/xla/stream_executor/cuda/cuda_executor.cc:998] successful NUMA node read from SysFS had negative value (-1), but there must be at least one NUMA node, so returning NUMA node zero. See more at https://github.com/torvalds/linux/blob/v6.0/Documentation/ABI/testing/sysfs-bus-pci#L344-L355\n",
      "2024-06-08 15:25:27.503168: I external/local_xla/xla/stream_executor/cuda/cuda_executor.cc:998] successful NUMA node read from SysFS had negative value (-1), but there must be at least one NUMA node, so returning NUMA node zero. See more at https://github.com/torvalds/linux/blob/v6.0/Documentation/ABI/testing/sysfs-bus-pci#L344-L355\n",
      "2024-06-08 15:25:27.503329: I external/local_xla/xla/stream_executor/cuda/cuda_executor.cc:998] successful NUMA node read from SysFS had negative value (-1), but there must be at least one NUMA node, so returning NUMA node zero. See more at https://github.com/torvalds/linux/blob/v6.0/Documentation/ABI/testing/sysfs-bus-pci#L344-L355\n",
      "2024-06-08 15:25:27.503426: I tensorflow/core/common_runtime/gpu/gpu_device.cc:1928] Created device /job:localhost/replica:0/task:0/device:GPU:0 with 2935 MB memory:  -> device: 0, name: NVIDIA GeForce GTX 1050 Ti, pci bus id: 0000:01:00.0, compute capability: 6.1\n",
      "/net/projects/scratch/summer/valid_until_31_January_2025/epetersen/miniconda3/envs/thesis_gpu/lib/python3.12/site-packages/keras/src/layers/pooling/base_pooling.py:23: UserWarning: Do not pass an `input_shape`/`input_dim` argument to a layer. When using Sequential models, prefer using an `Input(shape)` object as the first layer in the model instead.\n",
      "  super().__init__(name=name, **kwargs)\n",
      "2024-06-08 15:25:37.906201: W tensorflow/core/framework/local_rendezvous.cc:404] Local rendezvous is aborting with status: OUT_OF_RANGE: End of sequence\n",
      "2024-06-08 15:25:38.078931: I external/local_xla/xla/stream_executor/cuda/cuda_dnn.cc:465] Loaded cuDNN version 8907\n"
     ]
    },
    {
     "name": "stdout",
     "output_type": "stream",
     "text": [
      "[ 0.00650881 -0.02182875  0.03089781 -0.08985776  0.02500349 -0.07537685\n",
      "  0.03774495 -0.00285682 -0.04449913 -0.03845106  0.01698214  0.03447889\n",
      "  0.00600125  0.00074863  0.03564246  0.06237182 -0.01488221 -0.05054392\n",
      " -0.00582335  0.01778994  0.04295386 -0.07842498 -0.0834002  -0.026866\n",
      " -0.05042389 -0.07521044  0.02440945 -0.00088095  0.08087108 -0.07992527\n",
      "  0.00753598  0.05888757 -0.07822406 -0.03056831 -0.01207802 -0.05326547\n",
      "  0.02379467  0.01805939 -0.07509857  0.01613484  0.030192   -0.03046131\n",
      " -0.07178821 -0.01681533  0.00511863 -0.07085908  0.09932216  0.08581939\n",
      " -0.02858925  0.09308875 -0.05295458 -0.08716218  0.01173261 -0.08989063\n",
      " -0.0780398   0.00710951  0.08889468  0.02663618  0.08576076 -0.06073443\n",
      "  0.01549752 -0.05627536 -0.00622302 -0.05799176]\n",
      "[ 0.         -0.08607975  0.          0.          0.          0.\n",
      "  0.          0.05689463  0.          0.         -0.09360019  0.\n",
      "  0.          0.          0.          0.04675482  0.          0.\n",
      "  0.          0.          0.          0.         -0.05320068  0.\n",
      "  0.04976906 -0.07125817 -0.08504844  0.          0.         -0.08124522\n",
      "  0.          0.          0.          0.         -0.03529412 -0.07742307\n",
      "  0.         -0.05916243 -0.0853775   0.          0.         -0.03307976\n",
      "  0.         -0.08431697 -0.0983989   0.          0.          0.\n",
      "  0.03706263  0.         -0.06385654  0.          0.02743658  0.\n",
      "  0.08909036  0.03950852  0.          0.          0.          0.\n",
      "  0.0827947  -0.07296725  0.         -0.04024932]\n"
     ]
    }
   ],
   "source": [
    "def try_computing_c_scores():\n",
    "\n",
    "    # make a model to load the weights into\n",
    "    train_dataset, test_dataset = load_and_prep_dataset(\"CIFAR\", batch_size=1, shuffle_size=512)\n",
    "    model = CNN2Model_adapted()\n",
    "    model(list(train_dataset)[0][0])\n",
    "    weights_wt = model.get_weights()\n",
    "    #print(weights_wt[0][0][0][0])\n",
    "    \n",
    "    # get WT weights\n",
    "    #model.load_weights(f\"1b WTs/old_format/WT_CIFAR_IMP_0\") # does not work for thesis env, works for no_gpu, does not work for gpu\n",
    "    #model.load_weights(f\"1b WTs/new_format/WT_CIFAR_IMP_0.weights.h5\") # does not work for thesis env, works for no_gpu, does not work for gpu\n",
    "    model.load_weights(f\"1b WTs/h5_format/WT_CIFAR_IMP_0.h5\") # does work for thesis env, works for no_gpu, works for gpu     \n",
    "    weights_wt = model.get_weights()\n",
    "    #print(weights_wt[0][0][0][0])\n",
    "\n",
    "    # plot distirbution of contribution values\n",
    "    for c_score in contribution_scores(test_dataset, model):\n",
    "        #print(c_score)\n",
    "        plt.figure()\n",
    "        plt.hist(c_score)\n",
    "        plt.show()\n",
    "\n",
    "#try_computing_c_scores()"
   ]
  },
  {
   "cell_type": "code",
   "execution_count": null,
   "id": "17a1270c",
   "metadata": {},
   "outputs": [],
   "source": [
    "# store contribution values for each sign distribution in files\n",
    "def get_and_store_c_scores():\n",
    "    train_dataset, test_dataset = load_and_prep_dataset(\"CIFAR\", batch_size=2, shuffle_size=512)\n",
    "    model = CNN2Model_adapted()\n",
    "    model(list(train_dataset)[0][0])\n",
    "\n",
    "    for dataset in [\"CIFAR\",\"CINIC\",\"SVHN\"]:\n",
    "        coll_c_scores_1 = []\n",
    "        coll_c_scores_2 = []\n",
    "        for i in range(15):\n",
    "            train_dataset, test_dataset = load_and_prep_dataset(dataset, batch_size=1, shuffle_size=512)\n",
    "            model.load_weights(f\"1b WTs/h5_format/WT_{dataset}_IMP_{i}.h5\")\n",
    "            c_scores_1, c_scores_2 = contribution_scores(test_dataset, model)\n",
    "            coll_c_scores_1.append(c_scores_1)\n",
    "            coll_c_scores_2.append(c_scores_2)\n",
    "        np.save(f\"5d Contribution values/c_scores_dense1_{dataset}\", np.array(coll_c_scores_1))\n",
    "        np.save(f\"5d Contribution values/c_scores_dense2_{dataset}\", np.array(coll_c_scores_2))"
   ]
  },
  {
   "cell_type": "code",
   "execution_count": 5,
   "id": "ee2f0840",
   "metadata": {},
   "outputs": [],
   "source": [
    "# plot contribution values in scatterplot matrix as 5th dimension"
   ]
  },
  {
   "cell_type": "code",
   "execution_count": 6,
   "id": "3f5e4377",
   "metadata": {},
   "outputs": [],
   "source": [
    "# collect statistics for contribution value of each cluster"
   ]
  }
 ],
 "metadata": {
  "kernelspec": {
   "display_name": "Python 3 (ipykernel)",
   "language": "python",
   "name": "python3"
  },
  "language_info": {
   "codemirror_mode": {
    "name": "ipython",
    "version": 3
   },
   "file_extension": ".py",
   "mimetype": "text/x-python",
   "name": "python",
   "nbconvert_exporter": "python",
   "pygments_lexer": "ipython3",
   "version": "3.12.3"
  }
 },
 "nbformat": 4,
 "nbformat_minor": 5
}
