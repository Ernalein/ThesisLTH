{
 "cells": [
  {
   "cell_type": "markdown",
   "id": "e6283b45",
   "metadata": {},
   "source": [
    "# Further Analysis\n",
    "\n",
    "This notebook contains\n",
    "- necessary imports\n",
    "- similarity measures for distributions\n",
    "- clustering methods\n",
    "- attributions methods\n",
    "- EOC measuring"
   ]
  },
  {
   "cell_type": "code",
   "execution_count": 1,
   "id": "ec02448c",
   "metadata": {},
   "outputs": [],
   "source": [
    "# imports\n",
    "\n",
    "import pandas as pd\n",
    "import numpy as np\n",
    "import matplotlib.pyplot as plt\n",
    "import scipy\n",
    "import random"
   ]
  },
  {
   "cell_type": "code",
   "execution_count": 2,
   "id": "4aa4e359",
   "metadata": {},
   "outputs": [
    {
     "data": {
      "text/html": [
       "<div>\n",
       "<style scoped>\n",
       "    .dataframe tbody tr th:only-of-type {\n",
       "        vertical-align: middle;\n",
       "    }\n",
       "\n",
       "    .dataframe tbody tr th {\n",
       "        vertical-align: top;\n",
       "    }\n",
       "\n",
       "    .dataframe thead th {\n",
       "        text-align: right;\n",
       "    }\n",
       "</style>\n",
       "<table border=\"1\" class=\"dataframe\">\n",
       "  <thead>\n",
       "    <tr style=\"text-align: right;\">\n",
       "      <th></th>\n",
       "      <th>pos_in</th>\n",
       "      <th>pos_out</th>\n",
       "      <th>neg_in</th>\n",
       "      <th>neg_out</th>\n",
       "      <th>prune_rate_in</th>\n",
       "      <th>prune_rate_out</th>\n",
       "      <th>sign_rate_in</th>\n",
       "      <th>sign_rate_out</th>\n",
       "      <th>layer</th>\n",
       "    </tr>\n",
       "  </thead>\n",
       "  <tbody>\n",
       "    <tr>\n",
       "      <th>0</th>\n",
       "      <td>794</td>\n",
       "      <td>96</td>\n",
       "      <td>625</td>\n",
       "      <td>104</td>\n",
       "      <td>0.913391</td>\n",
       "      <td>0.218750</td>\n",
       "      <td>0.559549</td>\n",
       "      <td>0.480000</td>\n",
       "      <td>dense1</td>\n",
       "    </tr>\n",
       "    <tr>\n",
       "      <th>1</th>\n",
       "      <td>912</td>\n",
       "      <td>102</td>\n",
       "      <td>870</td>\n",
       "      <td>96</td>\n",
       "      <td>0.891235</td>\n",
       "      <td>0.226562</td>\n",
       "      <td>0.511785</td>\n",
       "      <td>0.515152</td>\n",
       "      <td>dense1</td>\n",
       "    </tr>\n",
       "    <tr>\n",
       "      <th>2</th>\n",
       "      <td>938</td>\n",
       "      <td>81</td>\n",
       "      <td>858</td>\n",
       "      <td>111</td>\n",
       "      <td>0.890381</td>\n",
       "      <td>0.250000</td>\n",
       "      <td>0.522272</td>\n",
       "      <td>0.421875</td>\n",
       "      <td>dense1</td>\n",
       "    </tr>\n",
       "    <tr>\n",
       "      <th>3</th>\n",
       "      <td>756</td>\n",
       "      <td>100</td>\n",
       "      <td>620</td>\n",
       "      <td>74</td>\n",
       "      <td>0.916016</td>\n",
       "      <td>0.320312</td>\n",
       "      <td>0.549419</td>\n",
       "      <td>0.574713</td>\n",
       "      <td>dense1</td>\n",
       "    </tr>\n",
       "    <tr>\n",
       "      <th>4</th>\n",
       "      <td>402</td>\n",
       "      <td>86</td>\n",
       "      <td>426</td>\n",
       "      <td>79</td>\n",
       "      <td>0.949463</td>\n",
       "      <td>0.355469</td>\n",
       "      <td>0.485507</td>\n",
       "      <td>0.521212</td>\n",
       "      <td>dense1</td>\n",
       "    </tr>\n",
       "  </tbody>\n",
       "</table>\n",
       "</div>"
      ],
      "text/plain": [
       "   pos_in  pos_out  neg_in  neg_out  prune_rate_in  prune_rate_out  \\\n",
       "0     794       96     625      104       0.913391        0.218750   \n",
       "1     912      102     870       96       0.891235        0.226562   \n",
       "2     938       81     858      111       0.890381        0.250000   \n",
       "3     756      100     620       74       0.916016        0.320312   \n",
       "4     402       86     426       79       0.949463        0.355469   \n",
       "\n",
       "   sign_rate_in  sign_rate_out   layer  \n",
       "0      0.559549       0.480000  dense1  \n",
       "1      0.511785       0.515152  dense1  \n",
       "2      0.522272       0.421875  dense1  \n",
       "3      0.549419       0.574713  dense1  \n",
       "4      0.485507       0.521212  dense1  "
      ]
     },
     "execution_count": 2,
     "metadata": {},
     "output_type": "execute_result"
    }
   ],
   "source": [
    "# load 2 sign distributions\n",
    "\n",
    "cifar_imp_0_sign_distr = pd.read_csv('2b Sign distributions/CIFAR_IMP_0_sign_distr.csv')\n",
    "cifar_imp_1_sign_distr = pd.read_csv('2b Sign distributions/CIFAR_IMP_1_sign_distr.csv')\n",
    "random_sign_distr = pd.read_csv('2b Sign distributions/RSN_0_sign_distr.csv')\n",
    "cifar_imp_0_sign_distr.head() "
   ]
  },
  {
   "cell_type": "code",
   "execution_count": 3,
   "id": "5daef27b",
   "metadata": {},
   "outputs": [],
   "source": [
    "# two numpy arrays of the same variable\n",
    "\n",
    "array1 = np.array(cifar_imp_0_sign_distr[cifar_imp_0_sign_distr[\"layer\"]==\"dense2\"][[\"sign_rate_out\"]])\n",
    "array2 = np.array(cifar_imp_1_sign_distr[cifar_imp_1_sign_distr[\"layer\"]==\"dense2\"][[\"sign_rate_out\"]])\n",
    "array3 = np.array(random_sign_distr[random_sign_distr[\"layer\"]==\"dense2\"][[\"sign_rate_out\"]])"
   ]
  },
  {
   "cell_type": "code",
   "execution_count": 4,
   "id": "4b4abce4",
   "metadata": {},
   "outputs": [],
   "source": [
    "# function to turn it into discrete probability distributions\n",
    "\n",
    "def make_prob_distr(array1, array2):\n",
    "\n",
    "    union = []\n",
    "    union.extend(array1.flat)\n",
    "    union.extend(array2.flat)\n",
    "    unique_values = list(set(union))\n",
    "    unique_values.sort()\n",
    "\n",
    "    probdistr1 = []\n",
    "    probdistr2 = []\n",
    "    for v in unique_values:\n",
    "        probdistr1.append((array1 == v).sum()/len(array1.flat))\n",
    "        probdistr2.append((array2 == v).sum()/len(array2.flat))\n",
    "        \n",
    "    return probdistr1, probdistr2"
   ]
  },
  {
   "cell_type": "code",
   "execution_count": 5,
   "id": "4cf9e6cb",
   "metadata": {},
   "outputs": [],
   "source": [
    "# calculate KL divergence\n",
    "\n",
    "def kl_divergence(array1, array2):\n",
    "    sum = [0.0]\n",
    "    for p,q in zip(array1, array2):\n",
    "        if p*q != 0.0:\n",
    "            sum.append(p * np.log(p / q))\n",
    "    return np.sum(sum)\n",
    "\n",
    "def make_prob_and_kl_divergence(array1, array2):\n",
    "    probdistr1, probdistr2 = make_prob_distr(array1, array2)\n",
    "    return kl_divergence(probdistr1, probdistr2)"
   ]
  },
  {
   "cell_type": "code",
   "execution_count": 6,
   "id": "60d66700",
   "metadata": {},
   "outputs": [
    {
     "name": "stdout",
     "output_type": "stream",
     "text": [
      "both WT arrays: \n",
      "0.07817968809312958\n",
      "0.04391229440874625\n",
      "identical arrays: \n",
      "0.0\n",
      "0.0\n",
      "WT with random array: \n",
      "0.05907297450820153\n",
      "0.07445340982171182\n",
      "0.08780715692385113\n",
      "0.07291807498274293\n"
     ]
    }
   ],
   "source": [
    "print(\"both WT arrays: \")\n",
    "print(make_prob_and_kl_divergence(array1, array2))\n",
    "print(make_prob_and_kl_divergence(array2, array1))\n",
    "print(\"identical arrays: \")\n",
    "print(make_prob_and_kl_divergence(array1, array1))\n",
    "print(make_prob_and_kl_divergence(array2, array2))\n",
    "print(\"WT with random array: \")\n",
    "print(make_prob_and_kl_divergence(array2, array3))\n",
    "print(make_prob_and_kl_divergence(array3, array2))\n",
    "print(make_prob_and_kl_divergence(array1, array3))\n",
    "print(make_prob_and_kl_divergence(array3, array1))"
   ]
  },
  {
   "cell_type": "markdown",
   "id": "6b42cb9e",
   "metadata": {},
   "source": [
    "## Get some Distances"
   ]
  },
  {
   "cell_type": "code",
   "execution_count": 7,
   "id": "09da7050",
   "metadata": {},
   "outputs": [],
   "source": [
    "def get_sign_dist(n, p_type):\n",
    "    sign_distr = pd.read_csv(f'2b Sign distributions/{p_type}_{n}_sign_distr.csv')\n",
    "    return np.array(sign_distr[sign_distr[\"layer\"]==\"dense1\"][[\"sign_rate_in\"]])"
   ]
  },
  {
   "cell_type": "code",
   "execution_count": 8,
   "id": "c55d6dcd",
   "metadata": {},
   "outputs": [],
   "source": [
    "kl_random = []\n",
    "kl_mixed = []\n",
    "kl_wt = []\n",
    "\n",
    "# taking pairs, both ways\n",
    "for i in range(10):\n",
    "    for j in range(10):\n",
    "        if i != j:\n",
    "            wt1 = get_sign_dist(i, \"CIFAR_IMP\")\n",
    "            wt2 = get_sign_dist(j, \"CIFAR_IMP\")\n",
    "            rand1 = get_sign_dist(i, \"RSN\")\n",
    "            rand2 = get_sign_dist(j, \"RSN\")\n",
    "            kl_random.append(make_prob_and_kl_divergence(rand1,rand2))\n",
    "            kl_mixed.append(make_prob_and_kl_divergence(wt1,rand1))\n",
    "            kl_wt.append(make_prob_and_kl_divergence(wt1,wt2))"
   ]
  },
  {
   "cell_type": "code",
   "execution_count": 9,
   "id": "71c853ad",
   "metadata": {},
   "outputs": [
    {
     "data": {
      "image/png": "[encoded data removed]",
      "text/plain": [
       "<Figure size 640x480 with 1 Axes>"
      ]
     },
     "metadata": {},
     "output_type": "display_data"
    }
   ],
   "source": [
    "fig, ax = plt.subplots()\n",
    "ax.set_ylabel('kl divergence')\n",
    "bplot = ax.boxplot([kl_random, kl_mixed, kl_wt])\n",
    "                   #tick_labels=[\"kl_random\",\"kl_mixed\",\"kl_WT\"])  # will be used to label x-ticks\n",
    "plt.show()"
   ]
  },
  {
   "cell_type": "code",
   "execution_count": 10,
   "id": "53d9277f",
   "metadata": {},
   "outputs": [],
   "source": [
    "# jason shanon divergence\n",
    "def make_mixture_distribution(array1, array2):\n",
    "    \n",
    "    union = []\n",
    "    union.extend(array1.flat)\n",
    "    union.extend(array2.flat)\n",
    "    unique_values = list(set(union))\n",
    "    unique_values.sort()\n",
    "\n",
    "    probdistr = []\n",
    "    for v in unique_values:\n",
    "        probdistr.append((union == v).sum()/len(union))\n",
    "                          \n",
    "    return probdistr\n",
    "\n",
    "def make_mixture_distribution(array1, array2):\n",
    "    \n",
    "    union = []\n",
    "    union.extend(array1.flat)\n",
    "    union.extend(array2.flat)\n",
    "    unique_values = list(set(union))\n",
    "    unique_values.sort()\n",
    "\n",
    "    probdistr = []\n",
    "    for v in unique_values:\n",
    "        probdistr1 = (array1 == v).sum() / len(array1.flat)\n",
    "        probdistr2 = (array2 == v).sum() / len(array2.flat)\n",
    "        probdistr.append(np.mean([probdistr1,probdistr2]))\n",
    "        \n",
    "    return probdistr\n",
    "\n",
    "def js_divergence(array1, array2):\n",
    "    \n",
    "    probdistr1, probdistr2 = make_prob_distr(array1, array2)\n",
    "    mix_prob_distr = make_mixture_distribution(array1, array2)\n",
    "    js = 0.5*kl_divergence(probdistr1, mix_prob_distr) + 0.5*kl_divergence(probdistr2, mix_prob_distr)\n",
    "                          \n",
    "    return js                          "
   ]
  },
  {
   "cell_type": "code",
   "execution_count": 11,
   "id": "fdee7c33",
   "metadata": {},
   "outputs": [
    {
     "name": "stdout",
     "output_type": "stream",
     "text": [
      "both WT arrays: \n",
      "0.027069751988434254\n",
      "0.027069751988434254\n",
      "identical arrays: \n",
      "0.0\n",
      "0.0\n",
      "WT with random array: \n",
      "0.04199146601794272\n",
      "0.04199146601794272\n",
      "0.05884171303436102\n",
      "0.05884171303436102\n"
     ]
    }
   ],
   "source": [
    "print(\"both WT arrays: \")\n",
    "print(js_divergence(array1, array2))\n",
    "print(js_divergence(array2, array1))\n",
    "print(\"identical arrays: \")\n",
    "print(js_divergence(array1, array1))\n",
    "print(js_divergence(array2, array2))\n",
    "print(\"WT with random array: \")\n",
    "print(js_divergence(array2, array3))\n",
    "print(js_divergence(array3, array2))\n",
    "print(js_divergence(array1, array3))\n",
    "print(js_divergence(array3, array1))"
   ]
  },
  {
   "cell_type": "code",
   "execution_count": 12,
   "id": "8fa49962",
   "metadata": {},
   "outputs": [],
   "source": [
    "def get_sign_dist(n, p_type):\n",
    "    sign_distr = pd.read_csv(f'2b Sign distributions/{p_type}_{n}_sign_distr.csv')\n",
    "    return np.array(sign_distr[sign_distr[\"layer\"]==\"dense1\"][[\"prune_rate_in\"]])"
   ]
  },
  {
   "cell_type": "code",
   "execution_count": 13,
   "id": "6bccaae3",
   "metadata": {},
   "outputs": [],
   "source": [
    "kl_random = []\n",
    "kl_mixed = []\n",
    "kl_wt = []\n",
    "\n",
    "# taking pairs, but not both ways\n",
    "for i in range(10):\n",
    "    for j in range(10):\n",
    "        if i < j:\n",
    "            wt1 = get_sign_dist(i, \"CIFAR_IMP\")\n",
    "            wt2 = get_sign_dist(j, \"CIFAR_IMP\")\n",
    "            rand1 = get_sign_dist(i, \"RSN\")\n",
    "            rand2 = get_sign_dist(j, \"RSN\")\n",
    "            kl_random.append(js_divergence(rand1,rand2))\n",
    "            kl_mixed.append(js_divergence(wt1,rand1))\n",
    "            kl_wt.append(js_divergence(wt1,wt2))"
   ]
  },
  {
   "cell_type": "code",
   "execution_count": 14,
   "id": "894671f6",
   "metadata": {},
   "outputs": [
    {
     "data": {
      "image/png": "[encoded data removed]",
      "text/plain": [
       "<Figure size 640x480 with 1 Axes>"
      ]
     },
     "metadata": {},
     "output_type": "display_data"
    }
   ],
   "source": [
    "fig, ax = plt.subplots()\n",
    "ax.set_ylabel('js divergence')\n",
    "bplot = ax.boxplot([kl_random, kl_mixed, kl_wt])\n",
    "                   #tick_labels=[\"kl_random\",\"kl_mixed\",\"kl_WT\"])  # will be used to label x-ticks\n",
    "plt.show()"
   ]
  },
  {
   "cell_type": "markdown",
   "id": "daa57d3d",
   "metadata": {},
   "source": [
    "Right now the Jason Shanon Divergence is symmetrical, but the result depends highly on randomly creating the mixture distribution!!!"
   ]
  },
  {
   "cell_type": "code",
   "execution_count": 15,
   "id": "3d8f5e23",
   "metadata": {},
   "outputs": [
    {
     "name": "stdout",
     "output_type": "stream",
     "text": [
      "0.027069751988434254  is  0.027069751988434254 ?\n"
     ]
    }
   ],
   "source": [
    "\n",
    "probdistr1, probdistr2 = make_prob_distr(array1, array2)\n",
    "mix_prob_distr = make_mixture_distribution(array1, array2)\n",
    "js1 = 0.5*kl_divergence(probdistr1, mix_prob_distr) + 0.5*kl_divergence(probdistr2, mix_prob_distr)\n",
    "js2 = 0.5*kl_divergence(probdistr2, mix_prob_distr) + 0.5*kl_divergence(probdistr1, mix_prob_distr)\n",
    "print(js1 , \" is \", js2, \"?\")"
   ]
  },
  {
   "cell_type": "code",
   "execution_count": null,
   "id": "21e8a667",
   "metadata": {},
   "outputs": [],
   "source": []
  },
  {
   "cell_type": "code",
   "execution_count": null,
   "id": "d2d0b21d",
   "metadata": {},
   "outputs": [],
   "source": []
  }
 ],
 "metadata": {
  "kernelspec": {
   "display_name": "Python 3 (ipykernel)",
   "language": "python",
   "name": "python3"
  },
  "language_info": {
   "codemirror_mode": {
    "name": "ipython",
    "version": 3
   },
   "file_extension": ".py",
   "mimetype": "text/x-python",
   "name": "python",
   "nbconvert_exporter": "python",
   "pygments_lexer": "ipython3",
   "version": "3.10.13"
  }
 },
 "nbformat": 4,
 "nbformat_minor": 5
}
