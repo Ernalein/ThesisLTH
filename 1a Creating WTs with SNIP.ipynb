{
 "cells": [
  {
   "cell_type": "markdown",
   "id": "4a317e4b",
   "metadata": {},
   "source": [
    "# Creating WTs with SNIP\n",
    "\n",
    "This notebook contains code for:\n",
    "- importing necessary libraries\n",
    "- dowloading and preprocessing the datasets\n",
    "- using the datasets to train the full model and save the accuracies\n",
    "- performing SNIP using the model and datset\n",
    "- saving sparse model weights of WTs in Folder"
   ]
  }
 ],
 "metadata": {
  "kernelspec": {
   "display_name": "Python 3 (ipykernel)",
   "language": "python",
   "name": "python3"
  },
  "language_info": {
   "codemirror_mode": {
    "name": "ipython",
    "version": 3
   },
   "file_extension": ".py",
   "mimetype": "text/x-python",
   "name": "python",
   "nbconvert_exporter": "python",
   "pygments_lexer": "ipython3",
   "version": "3.10.13"
  }
 },
 "nbformat": 4,
 "nbformat_minor": 5
}
