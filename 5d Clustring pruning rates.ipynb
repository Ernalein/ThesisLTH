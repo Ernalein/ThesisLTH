{
 "cells": [
  {
   "cell_type": "markdown",
   "metadata": {},
   "source": [
    "# Clustering different pruning rates"
   ]
  },
  {
   "cell_type": "code",
   "execution_count": null,
   "metadata": {},
   "outputs": [],
   "source": [
    "# imports\n",
    "\n",
    "import pandas as pd\n",
    "import numpy as np\n",
    "import matplotlib.pyplot as plt\n",
    "import seaborn as sns\n",
    "from tqdm import tqdm\n",
    "import copy\n",
    "\n",
    "from sklearn.cluster import SpectralClustering, KMeans, AgglomerativeClustering"
   ]
  },
  {
   "cell_type": "code",
   "execution_count": null,
   "metadata": {},
   "outputs": [],
   "source": [
    "p_rates = [30,51,65,76,80,83,88,92,94,96,97]"
   ]
  },
  {
   "cell_type": "code",
   "execution_count": null,
   "metadata": {},
   "outputs": [],
   "source": [
    "# get collective sign distributions for p_rates\n",
    "\n",
    "def get_collective_sign_distr(n, dataset_name, layer, p_rate):\n",
    "\n",
    "    # collect all the sign distributions in one huge dataFrame\n",
    "    coll_sign_distr = pd.DataFrame()\n",
    "    for i in range(n):\n",
    "        sign_distr = pd.read_csv(f'2b Sign distributions/more_p_rates/{dataset_name}_IMP{p_rate}_{i}_sign_distr.csv')\n",
    "        coll_sign_distr = pd.concat([coll_sign_distr, sign_distr])\n",
    "    # seperate the dataframe by layer\n",
    "    coll_sign_distr = coll_sign_distr[coll_sign_distr[\"layer\"]==layer][[\"prune_rate_in\", \"prune_rate_out\", \"sign_rate_in\", \"sign_rate_out\"]]\n",
    "    \n",
    "    return coll_sign_distr"
   ]
  },
  {
   "cell_type": "code",
   "execution_count": null,
   "metadata": {},
   "outputs": [],
   "source": [
    "# get clusters and plot them\n",
    "\n",
    "def cluster_sign_distr(sign_distr, n_clusters = 2, algorithm = AgglomerativeClustering, print_matrix = False):\n",
    "\n",
    "    sign_distr = copy.copy(sign_distr)\n",
    "    \n",
    "    # preprocess the data\n",
    "    sign_distr_array = []\n",
    "    for index, row in sign_distr.iterrows():\n",
    "        sign_distr_array.append(row.to_numpy())\n",
    "    sign_distr_array = np.array(sign_distr_array)\n",
    "    \n",
    "    # clustering\n",
    "    clustering = algorithm(n_clusters=n_clusters)\n",
    "    clustering.fit(sign_distr_array)\n",
    "    labels = clustering.labels_\n",
    "    \n",
    "    # append labels to dataframe\n",
    "    labels_df = pd.DataFrame(labels, index=range(len(labels)),columns=[\"cluster\"])\n",
    "    sign_distr = sign_distr.reset_index(drop=True)\n",
    "    sign_distr = pd.concat([sign_distr, labels_df], axis=1)\n",
    "    \n",
    "    # show scatterplot matrix\n",
    "    if print_matrix:\n",
    "        sns.pairplot(sign_distr, hue=\"cluster\", height=1.75, kind='scatter', plot_kws={'alpha':0.8})\n",
    "    \n",
    "    return sign_distr"
   ]
  },
  {
   "cell_type": "code",
   "execution_count": null,
   "metadata": {},
   "outputs": [],
   "source": [
    "# get cluster observations table\n",
    "\n",
    "def get_cluster_obs(cluster_data, n_clusters = 4):\n",
    "\n",
    "    cluster_stats = pd.DataFrame()\n",
    "    for cluster in range(n_clusters):\n",
    "\n",
    "        cluster_stats_block = pd.DataFrame()\n",
    "        variables = [\"prune_rate_in\",\"prune_rate_out\",\"sign_rate_in\",\"sign_rate_out\"]\n",
    "        for v in variables:\n",
    "\n",
    "            cluster_data_filtered = cluster_data[cluster_data[\"cluster\"]==cluster]\n",
    "            #display(cluster_data_filtered)\n",
    "            cluster_data_filtered = cluster_data_filtered[v]\n",
    "\n",
    "            cluster_stats_vrow = {}\n",
    "            cluster_stats_vrow[f\"mean_c{cluster}\"] = np.mean(cluster_data_filtered)\n",
    "            cluster_stats_vrow[f\"std_c{cluster}\"] = np.std(cluster_data_filtered)\n",
    "            cluster_stats_vrow[f\"ratio_c{cluster}\"] = len(cluster_data_filtered)/len(cluster_data[v])\n",
    "\n",
    "            cluster_stats_vrow_df = pd.DataFrame(cluster_stats_vrow, index=[v])\n",
    "            cluster_stats_block = pd.concat([cluster_stats_block, cluster_stats_vrow_df], axis=0)\n",
    "\n",
    "        cluster_stats = pd.concat([cluster_stats, cluster_stats_block], axis=1)\n",
    "\n",
    "    return cluster_stats"
   ]
  },
  {
   "cell_type": "code",
   "execution_count": null,
   "metadata": {},
   "outputs": [],
   "source": [
    "cluster_obs = []\n",
    "\n",
    "# print cluster matrixes\n",
    "for p_rate in p_rates:\n",
    "\n",
    "    # cluster collective sign distributions\n",
    "    coll_sign_distr = get_collective_sign_distr(15, \"CIFAR\",\"dense1\", p_rate)\n",
    "    cluster_data = cluster_sign_distr(coll_sign_distr, n_clusters=4, algorithm=AgglomerativeClustering, print_matrix=True)\n",
    "\n",
    "    # collect cluster observations\n",
    "    obs = get_cluster_obs(cluster_data)\n",
    "    cluster_obs.append(obs)\n",
    "\n",
    "# print cluster obs\n",
    "for obs in cluster_obs:\n",
    "    display(obs)"
   ]
  }
 ],
 "metadata": {
  "kernelspec": {
   "display_name": "thesis",
   "language": "python",
   "name": "python3"
  },
  "language_info": {
   "name": "python",
   "version": "3.11.8"
  }
 },
 "nbformat": 4,
 "nbformat_minor": 2
}
